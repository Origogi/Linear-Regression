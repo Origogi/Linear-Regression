{
 "metadata": {
  "language_info": {
   "codemirror_mode": {
    "name": "ipython",
    "version": 3
   },
   "file_extension": ".py",
   "mimetype": "text/x-python",
   "name": "python",
   "nbconvert_exporter": "python",
   "pygments_lexer": "ipython3",
   "version": "3.8.3-final"
  },
  "orig_nbformat": 2,
  "kernelspec": {
   "name": "Python 3.8.3 64-bit (conda)",
   "display_name": "Python 3.8.3 64-bit (conda)",
   "metadata": {
    "interpreter": {
     "hash": "c0e33f7af13818fa4e32830cd49385c21f82f0414f4d336dcfaee86942161817"
    }
   }
  }
 },
 "nbformat": 4,
 "nbformat_minor": 2,
 "cells": [
  {
   "cell_type": "code",
   "execution_count": 337,
   "metadata": {},
   "outputs": [
    {
     "output_type": "stream",
     "name": "stdout",
     "text": [
      "32\n"
     ]
    }
   ],
   "source": [
    "myAge = 32\n",
    "print(myAge)"
   ]
  },
  {
   "cell_type": "code",
   "execution_count": 338,
   "metadata": {},
   "outputs": [
    {
     "output_type": "stream",
     "name": "stdout",
     "text": [
      "33\n"
     ]
    }
   ],
   "source": [
    "myAge = 33\n",
    "print(myAge)"
   ]
  },
  {
   "cell_type": "code",
   "execution_count": 339,
   "metadata": {},
   "outputs": [
    {
     "output_type": "stream",
     "name": "stdout",
     "text": [
      "11.0\n"
     ]
    }
   ],
   "source": [
    "print(myAge / 3)"
   ]
  },
  {
   "cell_type": "code",
   "execution_count": 340,
   "metadata": {},
   "outputs": [
    {
     "output_type": "stream",
     "name": "stdout",
     "text": [
      "34\n"
     ]
    }
   ],
   "source": [
    "myAge = myAge + 1\n",
    "print(myAge)"
   ]
  },
  {
   "cell_type": "code",
   "execution_count": 341,
   "metadata": {},
   "outputs": [
    {
     "output_type": "stream",
     "name": "stdout",
     "text": [
      "4.52125\n"
     ]
    }
   ],
   "source": [
    "# Challenge\n",
    "restaurantBill = 36.17\n",
    "serviceCharge = 0.125\n",
    "print(restaurantBill * serviceCharge)"
   ]
  },
  {
   "cell_type": "code",
   "execution_count": 342,
   "metadata": {},
   "outputs": [
    {
     "output_type": "execute_result",
     "data": {
      "text/plain": [
       "int"
      ]
     },
     "metadata": {},
     "execution_count": 342
    }
   ],
   "source": [
    "type(33)"
   ]
  },
  {
   "cell_type": "code",
   "execution_count": 343,
   "metadata": {},
   "outputs": [
    {
     "output_type": "execute_result",
     "data": {
      "text/plain": [
       "float"
      ]
     },
     "metadata": {},
     "execution_count": 343
    }
   ],
   "source": [
    "type(33.3)"
   ]
  },
  {
   "cell_type": "code",
   "execution_count": 344,
   "metadata": {},
   "outputs": [
    {
     "output_type": "execute_result",
     "data": {
      "text/plain": [
       "str"
      ]
     },
     "metadata": {},
     "execution_count": 344
    }
   ],
   "source": [
    "type('Philip')"
   ]
  },
  {
   "cell_type": "code",
   "execution_count": 345,
   "metadata": {},
   "outputs": [
    {
     "output_type": "execute_result",
     "data": {
      "text/plain": [
       "list"
      ]
     },
     "metadata": {},
     "execution_count": 345
    }
   ],
   "source": [
    "primeNumbers = [3 , 7, 61 ,29, 199]\n",
    "type(primeNumbers)"
   ]
  },
  {
   "cell_type": "code",
   "execution_count": 346,
   "metadata": {},
   "outputs": [],
   "source": [
    "coolPeople = [ 'Jay z', 'Ghandi', 'me']"
   ]
  },
  {
   "cell_type": "code",
   "execution_count": 347,
   "metadata": {},
   "outputs": [
    {
     "output_type": "execute_result",
     "data": {
      "text/plain": [
       "'me'"
      ]
     },
     "metadata": {},
     "execution_count": 347
    }
   ],
   "source": [
    "coolPeople[2]"
   ]
  },
  {
   "cell_type": "code",
   "execution_count": 348,
   "metadata": {},
   "outputs": [
    {
     "output_type": "stream",
     "name": "stdout",
     "text": [
      "Ghandi\n"
     ]
    }
   ],
   "source": [
    "name = coolPeople[1]\n",
    "print(name)"
   ]
  },
  {
   "cell_type": "code",
   "execution_count": 349,
   "metadata": {},
   "outputs": [],
   "source": [
    "import pandas as pd\n",
    "import matplotlib.pyplot as plt\n",
    "from sklearn.linear_model import LinearRegression\n",
    "\n",
    "data = pd.read_csv('lsd_math_score_data.csv')"
   ]
  },
  {
   "cell_type": "code",
   "execution_count": 350,
   "metadata": {},
   "outputs": [
    {
     "output_type": "execute_result",
     "data": {
      "text/plain": [
       "   Time_Delay_in_Minutes  LSD_ppm  Avg_Math_Test_Score\n",
       "0                      5     1.17                78.93\n",
       "1                     15     2.97                58.20\n",
       "2                     30     3.26                67.47\n",
       "3                     60     4.69                37.47\n",
       "4                    120     5.83                45.65\n",
       "5                    240     6.00                32.92\n",
       "6                    480     6.41                29.97"
      ],
      "text/html": "<div>\n<style scoped>\n    .dataframe tbody tr th:only-of-type {\n        vertical-align: middle;\n    }\n\n    .dataframe tbody tr th {\n        vertical-align: top;\n    }\n\n    .dataframe thead th {\n        text-align: right;\n    }\n</style>\n<table border=\"1\" class=\"dataframe\">\n  <thead>\n    <tr style=\"text-align: right;\">\n      <th></th>\n      <th>Time_Delay_in_Minutes</th>\n      <th>LSD_ppm</th>\n      <th>Avg_Math_Test_Score</th>\n    </tr>\n  </thead>\n  <tbody>\n    <tr>\n      <th>0</th>\n      <td>5</td>\n      <td>1.17</td>\n      <td>78.93</td>\n    </tr>\n    <tr>\n      <th>1</th>\n      <td>15</td>\n      <td>2.97</td>\n      <td>58.20</td>\n    </tr>\n    <tr>\n      <th>2</th>\n      <td>30</td>\n      <td>3.26</td>\n      <td>67.47</td>\n    </tr>\n    <tr>\n      <th>3</th>\n      <td>60</td>\n      <td>4.69</td>\n      <td>37.47</td>\n    </tr>\n    <tr>\n      <th>4</th>\n      <td>120</td>\n      <td>5.83</td>\n      <td>45.65</td>\n    </tr>\n    <tr>\n      <th>5</th>\n      <td>240</td>\n      <td>6.00</td>\n      <td>32.92</td>\n    </tr>\n    <tr>\n      <th>6</th>\n      <td>480</td>\n      <td>6.41</td>\n      <td>29.97</td>\n    </tr>\n  </tbody>\n</table>\n</div>"
     },
     "metadata": {},
     "execution_count": 350
    }
   ],
   "source": [
    "data"
   ]
  },
  {
   "cell_type": "code",
   "execution_count": 351,
   "metadata": {},
   "outputs": [
    {
     "output_type": "execute_result",
     "data": {
      "text/plain": [
       "pandas.core.frame.DataFrame"
      ]
     },
     "metadata": {},
     "execution_count": 351
    }
   ],
   "source": [
    "type(data)"
   ]
  },
  {
   "cell_type": "code",
   "execution_count": 352,
   "metadata": {},
   "outputs": [],
   "source": [
    "onlyMathScore= data['Avg_Math_Test_Score']"
   ]
  },
  {
   "cell_type": "code",
   "execution_count": 353,
   "metadata": {},
   "outputs": [
    {
     "output_type": "execute_result",
     "data": {
      "text/plain": [
       "pandas.core.series.Series"
      ]
     },
     "metadata": {},
     "execution_count": 353
    }
   ],
   "source": [
    "type(data['Avg_Math_Test_Score'])"
   ]
  },
  {
   "cell_type": "code",
   "execution_count": 354,
   "metadata": {},
   "outputs": [],
   "source": [
    "data['Test_Subject'] = 'Jennifer Lopez'"
   ]
  },
  {
   "cell_type": "code",
   "execution_count": 355,
   "metadata": {},
   "outputs": [
    {
     "output_type": "stream",
     "name": "stdout",
     "text": [
      "   Time_Delay_in_Minutes  LSD_ppm  Avg_Math_Test_Score    Test_Subject\n0                      5     1.17                78.93  Jennifer Lopez\n1                     15     2.97                58.20  Jennifer Lopez\n2                     30     3.26                67.47  Jennifer Lopez\n3                     60     4.69                37.47  Jennifer Lopez\n4                    120     5.83                45.65  Jennifer Lopez\n5                    240     6.00                32.92  Jennifer Lopez\n6                    480     6.41                29.97  Jennifer Lopez\n"
     ]
    }
   ],
   "source": [
    "print(data)"
   ]
  },
  {
   "cell_type": "code",
   "execution_count": 356,
   "metadata": {},
   "outputs": [],
   "source": [
    "data['High_Score'] = 100"
   ]
  },
  {
   "cell_type": "code",
   "execution_count": 357,
   "metadata": {},
   "outputs": [
    {
     "output_type": "execute_result",
     "data": {
      "text/plain": [
       "   Time_Delay_in_Minutes  LSD_ppm  Avg_Math_Test_Score    Test_Subject  \\\n",
       "0                      5     1.17                78.93  Jennifer Lopez   \n",
       "1                     15     2.97                58.20  Jennifer Lopez   \n",
       "2                     30     3.26                67.47  Jennifer Lopez   \n",
       "3                     60     4.69                37.47  Jennifer Lopez   \n",
       "4                    120     5.83                45.65  Jennifer Lopez   \n",
       "5                    240     6.00                32.92  Jennifer Lopez   \n",
       "6                    480     6.41                29.97  Jennifer Lopez   \n",
       "\n",
       "   High_Score  \n",
       "0         100  \n",
       "1         100  \n",
       "2         100  \n",
       "3         100  \n",
       "4         100  \n",
       "5         100  \n",
       "6         100  "
      ],
      "text/html": "<div>\n<style scoped>\n    .dataframe tbody tr th:only-of-type {\n        vertical-align: middle;\n    }\n\n    .dataframe tbody tr th {\n        vertical-align: top;\n    }\n\n    .dataframe thead th {\n        text-align: right;\n    }\n</style>\n<table border=\"1\" class=\"dataframe\">\n  <thead>\n    <tr style=\"text-align: right;\">\n      <th></th>\n      <th>Time_Delay_in_Minutes</th>\n      <th>LSD_ppm</th>\n      <th>Avg_Math_Test_Score</th>\n      <th>Test_Subject</th>\n      <th>High_Score</th>\n    </tr>\n  </thead>\n  <tbody>\n    <tr>\n      <th>0</th>\n      <td>5</td>\n      <td>1.17</td>\n      <td>78.93</td>\n      <td>Jennifer Lopez</td>\n      <td>100</td>\n    </tr>\n    <tr>\n      <th>1</th>\n      <td>15</td>\n      <td>2.97</td>\n      <td>58.20</td>\n      <td>Jennifer Lopez</td>\n      <td>100</td>\n    </tr>\n    <tr>\n      <th>2</th>\n      <td>30</td>\n      <td>3.26</td>\n      <td>67.47</td>\n      <td>Jennifer Lopez</td>\n      <td>100</td>\n    </tr>\n    <tr>\n      <th>3</th>\n      <td>60</td>\n      <td>4.69</td>\n      <td>37.47</td>\n      <td>Jennifer Lopez</td>\n      <td>100</td>\n    </tr>\n    <tr>\n      <th>4</th>\n      <td>120</td>\n      <td>5.83</td>\n      <td>45.65</td>\n      <td>Jennifer Lopez</td>\n      <td>100</td>\n    </tr>\n    <tr>\n      <th>5</th>\n      <td>240</td>\n      <td>6.00</td>\n      <td>32.92</td>\n      <td>Jennifer Lopez</td>\n      <td>100</td>\n    </tr>\n    <tr>\n      <th>6</th>\n      <td>480</td>\n      <td>6.41</td>\n      <td>29.97</td>\n      <td>Jennifer Lopez</td>\n      <td>100</td>\n    </tr>\n  </tbody>\n</table>\n</div>"
     },
     "metadata": {},
     "execution_count": 357
    }
   ],
   "source": [
    "data"
   ]
  },
  {
   "cell_type": "code",
   "execution_count": 358,
   "metadata": {},
   "outputs": [
    {
     "output_type": "execute_result",
     "data": {
      "text/plain": [
       "   Time_Delay_in_Minutes  LSD_ppm  Avg_Math_Test_Score    Test_Subject  \\\n",
       "0                      5     1.17                78.93  Jennifer Lopez   \n",
       "1                     15     2.97                58.20  Jennifer Lopez   \n",
       "2                     30     3.26                67.47  Jennifer Lopez   \n",
       "3                     60     4.69                37.47  Jennifer Lopez   \n",
       "4                    120     5.83                45.65  Jennifer Lopez   \n",
       "5                    240     6.00                32.92  Jennifer Lopez   \n",
       "6                    480     6.41                29.97  Jennifer Lopez   \n",
       "\n",
       "   High_Score  \n",
       "0         200  \n",
       "1         200  \n",
       "2         200  \n",
       "3         200  \n",
       "4         200  \n",
       "5         200  \n",
       "6         200  "
      ],
      "text/html": "<div>\n<style scoped>\n    .dataframe tbody tr th:only-of-type {\n        vertical-align: middle;\n    }\n\n    .dataframe tbody tr th {\n        vertical-align: top;\n    }\n\n    .dataframe thead th {\n        text-align: right;\n    }\n</style>\n<table border=\"1\" class=\"dataframe\">\n  <thead>\n    <tr style=\"text-align: right;\">\n      <th></th>\n      <th>Time_Delay_in_Minutes</th>\n      <th>LSD_ppm</th>\n      <th>Avg_Math_Test_Score</th>\n      <th>Test_Subject</th>\n      <th>High_Score</th>\n    </tr>\n  </thead>\n  <tbody>\n    <tr>\n      <th>0</th>\n      <td>5</td>\n      <td>1.17</td>\n      <td>78.93</td>\n      <td>Jennifer Lopez</td>\n      <td>200</td>\n    </tr>\n    <tr>\n      <th>1</th>\n      <td>15</td>\n      <td>2.97</td>\n      <td>58.20</td>\n      <td>Jennifer Lopez</td>\n      <td>200</td>\n    </tr>\n    <tr>\n      <th>2</th>\n      <td>30</td>\n      <td>3.26</td>\n      <td>67.47</td>\n      <td>Jennifer Lopez</td>\n      <td>200</td>\n    </tr>\n    <tr>\n      <th>3</th>\n      <td>60</td>\n      <td>4.69</td>\n      <td>37.47</td>\n      <td>Jennifer Lopez</td>\n      <td>200</td>\n    </tr>\n    <tr>\n      <th>4</th>\n      <td>120</td>\n      <td>5.83</td>\n      <td>45.65</td>\n      <td>Jennifer Lopez</td>\n      <td>200</td>\n    </tr>\n    <tr>\n      <th>5</th>\n      <td>240</td>\n      <td>6.00</td>\n      <td>32.92</td>\n      <td>Jennifer Lopez</td>\n      <td>200</td>\n    </tr>\n    <tr>\n      <th>6</th>\n      <td>480</td>\n      <td>6.41</td>\n      <td>29.97</td>\n      <td>Jennifer Lopez</td>\n      <td>200</td>\n    </tr>\n  </tbody>\n</table>\n</div>"
     },
     "metadata": {},
     "execution_count": 358
    }
   ],
   "source": [
    "# Challenge\n",
    "data['High_Score'] += 100\n",
    "data"
   ]
  },
  {
   "cell_type": "code",
   "execution_count": 359,
   "metadata": {},
   "outputs": [],
   "source": [
    "data['High_Score'] = data['High_Score'] ** 2 # power"
   ]
  },
  {
   "cell_type": "code",
   "execution_count": 360,
   "metadata": {},
   "outputs": [
    {
     "output_type": "execute_result",
     "data": {
      "text/plain": [
       "   Time_Delay_in_Minutes  LSD_ppm  Avg_Math_Test_Score    Test_Subject  \\\n",
       "0                      5     1.17                78.93  Jennifer Lopez   \n",
       "1                     15     2.97                58.20  Jennifer Lopez   \n",
       "2                     30     3.26                67.47  Jennifer Lopez   \n",
       "3                     60     4.69                37.47  Jennifer Lopez   \n",
       "4                    120     5.83                45.65  Jennifer Lopez   \n",
       "5                    240     6.00                32.92  Jennifer Lopez   \n",
       "6                    480     6.41                29.97  Jennifer Lopez   \n",
       "\n",
       "   High_Score  \n",
       "0       40000  \n",
       "1       40000  \n",
       "2       40000  \n",
       "3       40000  \n",
       "4       40000  \n",
       "5       40000  \n",
       "6       40000  "
      ],
      "text/html": "<div>\n<style scoped>\n    .dataframe tbody tr th:only-of-type {\n        vertical-align: middle;\n    }\n\n    .dataframe tbody tr th {\n        vertical-align: top;\n    }\n\n    .dataframe thead th {\n        text-align: right;\n    }\n</style>\n<table border=\"1\" class=\"dataframe\">\n  <thead>\n    <tr style=\"text-align: right;\">\n      <th></th>\n      <th>Time_Delay_in_Minutes</th>\n      <th>LSD_ppm</th>\n      <th>Avg_Math_Test_Score</th>\n      <th>Test_Subject</th>\n      <th>High_Score</th>\n    </tr>\n  </thead>\n  <tbody>\n    <tr>\n      <th>0</th>\n      <td>5</td>\n      <td>1.17</td>\n      <td>78.93</td>\n      <td>Jennifer Lopez</td>\n      <td>40000</td>\n    </tr>\n    <tr>\n      <th>1</th>\n      <td>15</td>\n      <td>2.97</td>\n      <td>58.20</td>\n      <td>Jennifer Lopez</td>\n      <td>40000</td>\n    </tr>\n    <tr>\n      <th>2</th>\n      <td>30</td>\n      <td>3.26</td>\n      <td>67.47</td>\n      <td>Jennifer Lopez</td>\n      <td>40000</td>\n    </tr>\n    <tr>\n      <th>3</th>\n      <td>60</td>\n      <td>4.69</td>\n      <td>37.47</td>\n      <td>Jennifer Lopez</td>\n      <td>40000</td>\n    </tr>\n    <tr>\n      <th>4</th>\n      <td>120</td>\n      <td>5.83</td>\n      <td>45.65</td>\n      <td>Jennifer Lopez</td>\n      <td>40000</td>\n    </tr>\n    <tr>\n      <th>5</th>\n      <td>240</td>\n      <td>6.00</td>\n      <td>32.92</td>\n      <td>Jennifer Lopez</td>\n      <td>40000</td>\n    </tr>\n    <tr>\n      <th>6</th>\n      <td>480</td>\n      <td>6.41</td>\n      <td>29.97</td>\n      <td>Jennifer Lopez</td>\n      <td>40000</td>\n    </tr>\n  </tbody>\n</table>\n</div>"
     },
     "metadata": {},
     "execution_count": 360
    }
   ],
   "source": [
    "data"
   ]
  },
  {
   "cell_type": "code",
   "execution_count": 361,
   "metadata": {},
   "outputs": [
    {
     "output_type": "stream",
     "name": "stdout",
     "text": [
      "   LSD_ppm  Avg_Math_Test_Score\n0     1.17                78.93\n1     2.97                58.20\n2     3.26                67.47\n3     4.69                37.47\n4     5.83                45.65\n5     6.00                32.92\n6     6.41                29.97\n"
     ]
    }
   ],
   "source": [
    "cleanData = data[['LSD_ppm', 'Avg_Math_Test_Score']]\n",
    "print(cleanData)"
   ]
  },
  {
   "cell_type": "code",
   "execution_count": 362,
   "metadata": {},
   "outputs": [
    {
     "output_type": "execute_result",
     "data": {
      "text/plain": [
       "pandas.core.frame.DataFrame"
      ]
     },
     "metadata": {},
     "execution_count": 362
    }
   ],
   "source": [
    "type(cleanData)"
   ]
  },
  {
   "cell_type": "code",
   "execution_count": 363,
   "metadata": {},
   "outputs": [
    {
     "output_type": "execute_result",
     "data": {
      "text/plain": [
       "pandas.core.frame.DataFrame"
      ]
     },
     "metadata": {},
     "execution_count": 363
    }
   ],
   "source": [
    "y = data[['Avg_Math_Test_Score']]\n",
    "type(y)"
   ]
  },
  {
   "cell_type": "code",
   "execution_count": 364,
   "metadata": {},
   "outputs": [
    {
     "output_type": "stream",
     "name": "stdout",
     "text": [
      "   LSD_ppm\n0     1.17\n1     2.97\n2     3.26\n3     4.69\n4     5.83\n5     6.00\n6     6.41\n"
     ]
    },
    {
     "output_type": "execute_result",
     "data": {
      "text/plain": [
       "pandas.core.frame.DataFrame"
      ]
     },
     "metadata": {},
     "execution_count": 364
    }
   ],
   "source": [
    "x = data[['LSD_ppm']]\n",
    "print(x)\n",
    "type(x)"
   ]
  },
  {
   "cell_type": "code",
   "execution_count": 365,
   "metadata": {},
   "outputs": [
    {
     "output_type": "execute_result",
     "data": {
      "text/plain": [
       "   Time_Delay_in_Minutes  LSD_ppm  Avg_Math_Test_Score  High_Score\n",
       "0                      5     1.17                78.93       40000\n",
       "1                     15     2.97                58.20       40000\n",
       "2                     30     3.26                67.47       40000\n",
       "3                     60     4.69                37.47       40000\n",
       "4                    120     5.83                45.65       40000\n",
       "5                    240     6.00                32.92       40000\n",
       "6                    480     6.41                29.97       40000"
      ],
      "text/html": "<div>\n<style scoped>\n    .dataframe tbody tr th:only-of-type {\n        vertical-align: middle;\n    }\n\n    .dataframe tbody tr th {\n        vertical-align: top;\n    }\n\n    .dataframe thead th {\n        text-align: right;\n    }\n</style>\n<table border=\"1\" class=\"dataframe\">\n  <thead>\n    <tr style=\"text-align: right;\">\n      <th></th>\n      <th>Time_Delay_in_Minutes</th>\n      <th>LSD_ppm</th>\n      <th>Avg_Math_Test_Score</th>\n      <th>High_Score</th>\n    </tr>\n  </thead>\n  <tbody>\n    <tr>\n      <th>0</th>\n      <td>5</td>\n      <td>1.17</td>\n      <td>78.93</td>\n      <td>40000</td>\n    </tr>\n    <tr>\n      <th>1</th>\n      <td>15</td>\n      <td>2.97</td>\n      <td>58.20</td>\n      <td>40000</td>\n    </tr>\n    <tr>\n      <th>2</th>\n      <td>30</td>\n      <td>3.26</td>\n      <td>67.47</td>\n      <td>40000</td>\n    </tr>\n    <tr>\n      <th>3</th>\n      <td>60</td>\n      <td>4.69</td>\n      <td>37.47</td>\n      <td>40000</td>\n    </tr>\n    <tr>\n      <th>4</th>\n      <td>120</td>\n      <td>5.83</td>\n      <td>45.65</td>\n      <td>40000</td>\n    </tr>\n    <tr>\n      <th>5</th>\n      <td>240</td>\n      <td>6.00</td>\n      <td>32.92</td>\n      <td>40000</td>\n    </tr>\n    <tr>\n      <th>6</th>\n      <td>480</td>\n      <td>6.41</td>\n      <td>29.97</td>\n      <td>40000</td>\n    </tr>\n  </tbody>\n</table>\n</div>"
     },
     "metadata": {},
     "execution_count": 365
    }
   ],
   "source": [
    "del data['Test_Subject']\n",
    "data"
   ]
  },
  {
   "cell_type": "code",
   "execution_count": 366,
   "metadata": {},
   "outputs": [
    {
     "output_type": "stream",
     "name": "stdout",
     "text": [
      "   Time_Delay_in_Minutes  LSD_ppm  Avg_Math_Test_Score\n0                      5     1.17                78.93\n1                     15     2.97                58.20\n2                     30     3.26                67.47\n3                     60     4.69                37.47\n4                    120     5.83                45.65\n5                    240     6.00                32.92\n6                    480     6.41                29.97\n"
     ]
    }
   ],
   "source": [
    "del data['High_Score']\n",
    "print(data)"
   ]
  },
  {
   "cell_type": "code",
   "execution_count": 367,
   "metadata": {},
   "outputs": [],
   "source": [
    "import life"
   ]
  },
  {
   "cell_type": "code",
   "execution_count": 368,
   "metadata": {},
   "outputs": [
    {
     "output_type": "execute_result",
     "data": {
      "text/plain": [
       "module"
      ]
     },
     "metadata": {},
     "execution_count": 368
    }
   ],
   "source": [
    "type(life)"
   ]
  },
  {
   "cell_type": "code",
   "execution_count": 369,
   "metadata": {},
   "outputs": [
    {
     "output_type": "execute_result",
     "data": {
      "text/plain": [
       "42"
      ]
     },
     "metadata": {},
     "execution_count": 369
    }
   ],
   "source": [
    "life.theAnswer"
   ]
  },
  {
   "cell_type": "code",
   "execution_count": 370,
   "metadata": {},
   "outputs": [],
   "source": [
    "import math"
   ]
  },
  {
   "cell_type": "code",
   "execution_count": 371,
   "metadata": {},
   "outputs": [
    {
     "output_type": "stream",
     "name": "stdout",
     "text": [
      "2.718281828459045\n3.141592653589793\n"
     ]
    }
   ],
   "source": [
    "print(math.e)\n",
    "print(math.pi)"
   ]
  },
  {
   "cell_type": "code",
   "execution_count": 372,
   "metadata": {},
   "outputs": [
    {
     "output_type": "stream",
     "name": "stdout",
     "text": [
      "42\n"
     ]
    }
   ],
   "source": [
    "from life import theAnswer\n",
    "print(theAnswer)"
   ]
  },
  {
   "cell_type": "code",
   "execution_count": 373,
   "metadata": {},
   "outputs": [
    {
     "output_type": "execute_result",
     "data": {
      "text/plain": [
       "44"
      ]
     },
     "metadata": {},
     "execution_count": 373
    }
   ],
   "source": [
    "theAnswer = 44\n",
    "theAnswer"
   ]
  },
  {
   "cell_type": "code",
   "execution_count": 374,
   "metadata": {},
   "outputs": [],
   "source": [
    "def get_milk() :\n",
    "    print('Open door')\n",
    "    print('Walk to the store')\n",
    "    print('Buy milk')\n",
    "    print('Return with milk')"
   ]
  },
  {
   "cell_type": "code",
   "execution_count": 375,
   "metadata": {},
   "outputs": [
    {
     "output_type": "stream",
     "name": "stdout",
     "text": [
      "Open door\nWalk to the store\nBuy milk\nReturn with milk\n"
     ]
    }
   ],
   "source": [
    "get_milk()"
   ]
  },
  {
   "cell_type": "code",
   "execution_count": 376,
   "metadata": {},
   "outputs": [],
   "source": [
    "def fill_the_fridge(amount) :\n",
    "    print('Open door')\n",
    "    print('Walk to the store')\n",
    "    print('Buy ' + amount + ' cartons on the ground floor')\n",
    "    print('Return with milk')"
   ]
  },
  {
   "cell_type": "code",
   "execution_count": 377,
   "metadata": {},
   "outputs": [
    {
     "output_type": "stream",
     "name": "stdout",
     "text": [
      "Open door\nWalk to the store\nBuy five cartons on the ground floor\nReturn with milk\n"
     ]
    }
   ],
   "source": [
    "fill_the_fridge('five')"
   ]
  },
  {
   "cell_type": "code",
   "execution_count": 378,
   "metadata": {},
   "outputs": [],
   "source": [
    "def milk_mission(amount, destination) :\n",
    "    print('Open door')\n",
    "    print('Walk to the ' + destination)\n",
    "    print('Buy ' + amount + ' cartons on the ground floor')\n",
    "    print('Return with milk')"
   ]
  },
  {
   "cell_type": "code",
   "execution_count": 379,
   "metadata": {},
   "outputs": [
    {
     "output_type": "stream",
     "name": "stdout",
     "text": [
      "Open door\nWalk to the department store\nBuy twenty cartons on the ground floor\nReturn with milk\n"
     ]
    }
   ],
   "source": [
    "milk_mission( destination='department store',amount='twenty')"
   ]
  },
  {
   "cell_type": "code",
   "execution_count": 380,
   "metadata": {},
   "outputs": [],
   "source": [
    "def times(x, y) :\n",
    "    result = x * y\n",
    "    return result\n"
   ]
  },
  {
   "source": [],
   "cell_type": "markdown",
   "metadata": {}
  },
  {
   "cell_type": "code",
   "execution_count": 381,
   "metadata": {},
   "outputs": [
    {
     "output_type": "execute_result",
     "data": {
      "text/plain": [
       "15.9826"
      ]
     },
     "metadata": {},
     "execution_count": 381
    }
   ],
   "source": [
    "times(3.14, 5.09)"
   ]
  },
  {
   "cell_type": "code",
   "execution_count": 382,
   "metadata": {},
   "outputs": [
    {
     "output_type": "execute_result",
     "data": {
      "text/plain": [
       "'NINININI'"
      ]
     },
     "metadata": {},
     "execution_count": 382
    }
   ],
   "source": [
    "times('NI', 4)"
   ]
  },
  {
   "cell_type": "code",
   "execution_count": 383,
   "metadata": {},
   "outputs": [],
   "source": [
    "import this"
   ]
  },
  {
   "cell_type": "code",
   "execution_count": 384,
   "metadata": {},
   "outputs": [
    {
     "output_type": "execute_result",
     "data": {
      "text/plain": [
       "2.23606797749979"
      ]
     },
     "metadata": {},
     "execution_count": 384
    }
   ],
   "source": [
    "life.square_root(5)"
   ]
  },
  {
   "cell_type": "code",
   "execution_count": 385,
   "metadata": {},
   "outputs": [
    {
     "output_type": "execute_result",
     "data": {
      "text/plain": [
       "   Time_Delay_in_Minutes  LSD_ppm  Avg_Math_Test_Score\n",
       "0                      5     1.17                78.93\n",
       "1                     15     2.97                58.20\n",
       "2                     30     3.26                67.47\n",
       "3                     60     4.69                37.47\n",
       "4                    120     5.83                45.65\n",
       "5                    240     6.00                32.92\n",
       "6                    480     6.41                29.97"
      ],
      "text/html": "<div>\n<style scoped>\n    .dataframe tbody tr th:only-of-type {\n        vertical-align: middle;\n    }\n\n    .dataframe tbody tr th {\n        vertical-align: top;\n    }\n\n    .dataframe thead th {\n        text-align: right;\n    }\n</style>\n<table border=\"1\" class=\"dataframe\">\n  <thead>\n    <tr style=\"text-align: right;\">\n      <th></th>\n      <th>Time_Delay_in_Minutes</th>\n      <th>LSD_ppm</th>\n      <th>Avg_Math_Test_Score</th>\n    </tr>\n  </thead>\n  <tbody>\n    <tr>\n      <th>0</th>\n      <td>5</td>\n      <td>1.17</td>\n      <td>78.93</td>\n    </tr>\n    <tr>\n      <th>1</th>\n      <td>15</td>\n      <td>2.97</td>\n      <td>58.20</td>\n    </tr>\n    <tr>\n      <th>2</th>\n      <td>30</td>\n      <td>3.26</td>\n      <td>67.47</td>\n    </tr>\n    <tr>\n      <th>3</th>\n      <td>60</td>\n      <td>4.69</td>\n      <td>37.47</td>\n    </tr>\n    <tr>\n      <th>4</th>\n      <td>120</td>\n      <td>5.83</td>\n      <td>45.65</td>\n    </tr>\n    <tr>\n      <th>5</th>\n      <td>240</td>\n      <td>6.00</td>\n      <td>32.92</td>\n    </tr>\n    <tr>\n      <th>6</th>\n      <td>480</td>\n      <td>6.41</td>\n      <td>29.97</td>\n    </tr>\n  </tbody>\n</table>\n</div>"
     },
     "metadata": {},
     "execution_count": 385
    }
   ],
   "source": [
    "data"
   ]
  },
  {
   "cell_type": "code",
   "execution_count": 386,
   "metadata": {},
   "outputs": [],
   "source": [
    "time = data[['Time_Delay_in_Minutes']]\n",
    "LSD = data[['LSD_ppm']]\n",
    "score = data[['Avg_Math_Test_Score']]"
   ]
  },
  {
   "cell_type": "code",
   "execution_count": 387,
   "metadata": {},
   "outputs": [
    {
     "output_type": "stream",
     "name": "stdout",
     "text": [
      "   Time_Delay_in_Minutes\n0                      5\n1                     15\n2                     30\n3                     60\n4                    120\n5                    240\n6                    480\n"
     ]
    }
   ],
   "source": [
    "print(time)"
   ]
  },
  {
   "cell_type": "code",
   "execution_count": 388,
   "metadata": {},
   "outputs": [
    {
     "output_type": "display_data",
     "data": {
      "text/plain": "<Figure size 640x480 with 1 Axes>",
      "image/svg+xml": "<?xml version=\"1.0\" encoding=\"utf-8\" standalone=\"no\"?>\r\n<!DOCTYPE svg PUBLIC \"-//W3C//DTD SVG 1.1//EN\"\r\n  \"http://www.w3.org/Graphics/SVG/1.1/DTD/svg11.dtd\">\r\n<!-- Created with matplotlib (https://matplotlib.org/) -->\r\n<svg height=\"481.149375pt\" version=\"1.1\" viewBox=\"0 0 560.338125 481.149375\" width=\"560.338125pt\" xmlns=\"http://www.w3.org/2000/svg\" xmlns:xlink=\"http://www.w3.org/1999/xlink\">\r\n <defs>\r\n  <style type=\"text/css\">\r\n*{stroke-linecap:butt;stroke-linejoin:round;}\r\n  </style>\r\n </defs>\r\n <g id=\"figure_1\">\r\n  <g id=\"patch_1\">\r\n   <path d=\"M 0 481.149375 \r\nL 560.338125 481.149375 \r\nL 560.338125 -0 \r\nL 0 -0 \r\nz\r\n\" style=\"fill:#f0f0f0;\"/>\r\n  </g>\r\n  <g id=\"axes_1\">\r\n   <g id=\"patch_2\">\r\n    <path d=\"M 38.656875 381.397812 \r\nL 539.776875 381.397812 \r\nL 539.776875 22.837812 \r\nL 38.656875 22.837812 \r\nz\r\n\" style=\"fill:#f0f0f0;\"/>\r\n   </g>\r\n   <g id=\"matplotlib.axis_1\">\r\n    <g id=\"xtick_1\">\r\n     <g id=\"line2d_1\">\r\n      <path clip-path=\"url(#p19a62f8997)\" d=\"M 38.656875 381.397812 \r\nL 38.656875 22.837812 \r\n\" style=\"fill:none;stroke:#cbcbcb;\"/>\r\n     </g>\r\n     <g id=\"line2d_2\"/>\r\n     <g id=\"line2d_3\"/>\r\n     <g id=\"text_1\">\r\n      <!-- 0 -->\r\n      <defs>\r\n       <path d=\"M 31.78125 66.40625 \r\nQ 24.171875 66.40625 20.328125 58.90625 \r\nQ 16.5 51.421875 16.5 36.375 \r\nQ 16.5 21.390625 20.328125 13.890625 \r\nQ 24.171875 6.390625 31.78125 6.390625 \r\nQ 39.453125 6.390625 43.28125 13.890625 \r\nQ 47.125 21.390625 47.125 36.375 \r\nQ 47.125 51.421875 43.28125 58.90625 \r\nQ 39.453125 66.40625 31.78125 66.40625 \r\nz\r\nM 31.78125 74.21875 \r\nQ 44.046875 74.21875 50.515625 64.515625 \r\nQ 56.984375 54.828125 56.984375 36.375 \r\nQ 56.984375 17.96875 50.515625 8.265625 \r\nQ 44.046875 -1.421875 31.78125 -1.421875 \r\nQ 19.53125 -1.421875 13.0625 8.265625 \r\nQ 6.59375 17.96875 6.59375 36.375 \r\nQ 6.59375 54.828125 13.0625 64.515625 \r\nQ 19.53125 74.21875 31.78125 74.21875 \r\nz\r\n\" id=\"DejaVuSans-48\"/>\r\n      </defs>\r\n      <g transform=\"translate(34.203125 396.035625)scale(0.14 -0.14)\">\r\n       <use xlink:href=\"#DejaVuSans-48\"/>\r\n      </g>\r\n     </g>\r\n    </g>\r\n    <g id=\"xtick_2\">\r\n     <g id=\"line2d_4\">\r\n      <path clip-path=\"url(#p19a62f8997)\" d=\"M 138.880875 381.397812 \r\nL 138.880875 22.837812 \r\n\" style=\"fill:none;stroke:#cbcbcb;\"/>\r\n     </g>\r\n     <g id=\"line2d_5\"/>\r\n     <g id=\"line2d_6\"/>\r\n     <g id=\"text_2\">\r\n      <!-- 100 -->\r\n      <defs>\r\n       <path d=\"M 12.40625 8.296875 \r\nL 28.515625 8.296875 \r\nL 28.515625 63.921875 \r\nL 10.984375 60.40625 \r\nL 10.984375 69.390625 \r\nL 28.421875 72.90625 \r\nL 38.28125 72.90625 \r\nL 38.28125 8.296875 \r\nL 54.390625 8.296875 \r\nL 54.390625 0 \r\nL 12.40625 0 \r\nz\r\n\" id=\"DejaVuSans-49\"/>\r\n      </defs>\r\n      <g transform=\"translate(125.519625 396.035625)scale(0.14 -0.14)\">\r\n       <use xlink:href=\"#DejaVuSans-49\"/>\r\n       <use x=\"63.623047\" xlink:href=\"#DejaVuSans-48\"/>\r\n       <use x=\"127.246094\" xlink:href=\"#DejaVuSans-48\"/>\r\n      </g>\r\n     </g>\r\n    </g>\r\n    <g id=\"xtick_3\">\r\n     <g id=\"line2d_7\">\r\n      <path clip-path=\"url(#p19a62f8997)\" d=\"M 239.104875 381.397812 \r\nL 239.104875 22.837812 \r\n\" style=\"fill:none;stroke:#cbcbcb;\"/>\r\n     </g>\r\n     <g id=\"line2d_8\"/>\r\n     <g id=\"line2d_9\"/>\r\n     <g id=\"text_3\">\r\n      <!-- 200 -->\r\n      <defs>\r\n       <path d=\"M 19.1875 8.296875 \r\nL 53.609375 8.296875 \r\nL 53.609375 0 \r\nL 7.328125 0 \r\nL 7.328125 8.296875 \r\nQ 12.9375 14.109375 22.625 23.890625 \r\nQ 32.328125 33.6875 34.8125 36.53125 \r\nQ 39.546875 41.84375 41.421875 45.53125 \r\nQ 43.3125 49.21875 43.3125 52.78125 \r\nQ 43.3125 58.59375 39.234375 62.25 \r\nQ 35.15625 65.921875 28.609375 65.921875 \r\nQ 23.96875 65.921875 18.8125 64.3125 \r\nQ 13.671875 62.703125 7.8125 59.421875 \r\nL 7.8125 69.390625 \r\nQ 13.765625 71.78125 18.9375 73 \r\nQ 24.125 74.21875 28.421875 74.21875 \r\nQ 39.75 74.21875 46.484375 68.546875 \r\nQ 53.21875 62.890625 53.21875 53.421875 \r\nQ 53.21875 48.921875 51.53125 44.890625 \r\nQ 49.859375 40.875 45.40625 35.40625 \r\nQ 44.1875 33.984375 37.640625 27.21875 \r\nQ 31.109375 20.453125 19.1875 8.296875 \r\nz\r\n\" id=\"DejaVuSans-50\"/>\r\n      </defs>\r\n      <g transform=\"translate(225.743625 396.035625)scale(0.14 -0.14)\">\r\n       <use xlink:href=\"#DejaVuSans-50\"/>\r\n       <use x=\"63.623047\" xlink:href=\"#DejaVuSans-48\"/>\r\n       <use x=\"127.246094\" xlink:href=\"#DejaVuSans-48\"/>\r\n      </g>\r\n     </g>\r\n    </g>\r\n    <g id=\"xtick_4\">\r\n     <g id=\"line2d_10\">\r\n      <path clip-path=\"url(#p19a62f8997)\" d=\"M 339.328875 381.397812 \r\nL 339.328875 22.837812 \r\n\" style=\"fill:none;stroke:#cbcbcb;\"/>\r\n     </g>\r\n     <g id=\"line2d_11\"/>\r\n     <g id=\"line2d_12\"/>\r\n     <g id=\"text_4\">\r\n      <!-- 300 -->\r\n      <defs>\r\n       <path d=\"M 40.578125 39.3125 \r\nQ 47.65625 37.796875 51.625 33 \r\nQ 55.609375 28.21875 55.609375 21.1875 \r\nQ 55.609375 10.40625 48.1875 4.484375 \r\nQ 40.765625 -1.421875 27.09375 -1.421875 \r\nQ 22.515625 -1.421875 17.65625 -0.515625 \r\nQ 12.796875 0.390625 7.625 2.203125 \r\nL 7.625 11.71875 \r\nQ 11.71875 9.328125 16.59375 8.109375 \r\nQ 21.484375 6.890625 26.8125 6.890625 \r\nQ 36.078125 6.890625 40.9375 10.546875 \r\nQ 45.796875 14.203125 45.796875 21.1875 \r\nQ 45.796875 27.640625 41.28125 31.265625 \r\nQ 36.765625 34.90625 28.71875 34.90625 \r\nL 20.21875 34.90625 \r\nL 20.21875 43.015625 \r\nL 29.109375 43.015625 \r\nQ 36.375 43.015625 40.234375 45.921875 \r\nQ 44.09375 48.828125 44.09375 54.296875 \r\nQ 44.09375 59.90625 40.109375 62.90625 \r\nQ 36.140625 65.921875 28.71875 65.921875 \r\nQ 24.65625 65.921875 20.015625 65.03125 \r\nQ 15.375 64.15625 9.8125 62.3125 \r\nL 9.8125 71.09375 \r\nQ 15.4375 72.65625 20.34375 73.4375 \r\nQ 25.25 74.21875 29.59375 74.21875 \r\nQ 40.828125 74.21875 47.359375 69.109375 \r\nQ 53.90625 64.015625 53.90625 55.328125 \r\nQ 53.90625 49.265625 50.4375 45.09375 \r\nQ 46.96875 40.921875 40.578125 39.3125 \r\nz\r\n\" id=\"DejaVuSans-51\"/>\r\n      </defs>\r\n      <g transform=\"translate(325.967625 396.035625)scale(0.14 -0.14)\">\r\n       <use xlink:href=\"#DejaVuSans-51\"/>\r\n       <use x=\"63.623047\" xlink:href=\"#DejaVuSans-48\"/>\r\n       <use x=\"127.246094\" xlink:href=\"#DejaVuSans-48\"/>\r\n      </g>\r\n     </g>\r\n    </g>\r\n    <g id=\"xtick_5\">\r\n     <g id=\"line2d_13\">\r\n      <path clip-path=\"url(#p19a62f8997)\" d=\"M 439.552875 381.397812 \r\nL 439.552875 22.837812 \r\n\" style=\"fill:none;stroke:#cbcbcb;\"/>\r\n     </g>\r\n     <g id=\"line2d_14\"/>\r\n     <g id=\"line2d_15\"/>\r\n     <g id=\"text_5\">\r\n      <!-- 400 -->\r\n      <defs>\r\n       <path d=\"M 37.796875 64.3125 \r\nL 12.890625 25.390625 \r\nL 37.796875 25.390625 \r\nz\r\nM 35.203125 72.90625 \r\nL 47.609375 72.90625 \r\nL 47.609375 25.390625 \r\nL 58.015625 25.390625 \r\nL 58.015625 17.1875 \r\nL 47.609375 17.1875 \r\nL 47.609375 0 \r\nL 37.796875 0 \r\nL 37.796875 17.1875 \r\nL 4.890625 17.1875 \r\nL 4.890625 26.703125 \r\nz\r\n\" id=\"DejaVuSans-52\"/>\r\n      </defs>\r\n      <g transform=\"translate(426.191625 396.035625)scale(0.14 -0.14)\">\r\n       <use xlink:href=\"#DejaVuSans-52\"/>\r\n       <use x=\"63.623047\" xlink:href=\"#DejaVuSans-48\"/>\r\n       <use x=\"127.246094\" xlink:href=\"#DejaVuSans-48\"/>\r\n      </g>\r\n     </g>\r\n    </g>\r\n    <g id=\"xtick_6\">\r\n     <g id=\"line2d_16\">\r\n      <path clip-path=\"url(#p19a62f8997)\" d=\"M 539.776875 381.397812 \r\nL 539.776875 22.837812 \r\n\" style=\"fill:none;stroke:#cbcbcb;\"/>\r\n     </g>\r\n     <g id=\"line2d_17\"/>\r\n     <g id=\"line2d_18\"/>\r\n     <g id=\"text_6\">\r\n      <!-- 500 -->\r\n      <defs>\r\n       <path d=\"M 10.796875 72.90625 \r\nL 49.515625 72.90625 \r\nL 49.515625 64.59375 \r\nL 19.828125 64.59375 \r\nL 19.828125 46.734375 \r\nQ 21.96875 47.46875 24.109375 47.828125 \r\nQ 26.265625 48.1875 28.421875 48.1875 \r\nQ 40.625 48.1875 47.75 41.5 \r\nQ 54.890625 34.8125 54.890625 23.390625 \r\nQ 54.890625 11.625 47.5625 5.09375 \r\nQ 40.234375 -1.421875 26.90625 -1.421875 \r\nQ 22.3125 -1.421875 17.546875 -0.640625 \r\nQ 12.796875 0.140625 7.71875 1.703125 \r\nL 7.71875 11.625 \r\nQ 12.109375 9.234375 16.796875 8.0625 \r\nQ 21.484375 6.890625 26.703125 6.890625 \r\nQ 35.15625 6.890625 40.078125 11.328125 \r\nQ 45.015625 15.765625 45.015625 23.390625 \r\nQ 45.015625 31 40.078125 35.4375 \r\nQ 35.15625 39.890625 26.703125 39.890625 \r\nQ 22.75 39.890625 18.8125 39.015625 \r\nQ 14.890625 38.140625 10.796875 36.28125 \r\nz\r\n\" id=\"DejaVuSans-53\"/>\r\n      </defs>\r\n      <g transform=\"translate(526.415625 396.035625)scale(0.14 -0.14)\">\r\n       <use xlink:href=\"#DejaVuSans-53\"/>\r\n       <use x=\"63.623047\" xlink:href=\"#DejaVuSans-48\"/>\r\n       <use x=\"127.246094\" xlink:href=\"#DejaVuSans-48\"/>\r\n      </g>\r\n     </g>\r\n    </g>\r\n    <g id=\"text_7\">\r\n     <!-- Time in Minutes -->\r\n     <defs>\r\n      <path d=\"M -0.296875 72.90625 \r\nL 61.375 72.90625 \r\nL 61.375 64.59375 \r\nL 35.5 64.59375 \r\nL 35.5 0 \r\nL 25.59375 0 \r\nL 25.59375 64.59375 \r\nL -0.296875 64.59375 \r\nz\r\n\" id=\"DejaVuSans-84\"/>\r\n      <path d=\"M 9.421875 54.6875 \r\nL 18.40625 54.6875 \r\nL 18.40625 0 \r\nL 9.421875 0 \r\nz\r\nM 9.421875 75.984375 \r\nL 18.40625 75.984375 \r\nL 18.40625 64.59375 \r\nL 9.421875 64.59375 \r\nz\r\n\" id=\"DejaVuSans-105\"/>\r\n      <path d=\"M 52 44.1875 \r\nQ 55.375 50.25 60.0625 53.125 \r\nQ 64.75 56 71.09375 56 \r\nQ 79.640625 56 84.28125 50.015625 \r\nQ 88.921875 44.046875 88.921875 33.015625 \r\nL 88.921875 0 \r\nL 79.890625 0 \r\nL 79.890625 32.71875 \r\nQ 79.890625 40.578125 77.09375 44.375 \r\nQ 74.3125 48.1875 68.609375 48.1875 \r\nQ 61.625 48.1875 57.5625 43.546875 \r\nQ 53.515625 38.921875 53.515625 30.90625 \r\nL 53.515625 0 \r\nL 44.484375 0 \r\nL 44.484375 32.71875 \r\nQ 44.484375 40.625 41.703125 44.40625 \r\nQ 38.921875 48.1875 33.109375 48.1875 \r\nQ 26.21875 48.1875 22.15625 43.53125 \r\nQ 18.109375 38.875 18.109375 30.90625 \r\nL 18.109375 0 \r\nL 9.078125 0 \r\nL 9.078125 54.6875 \r\nL 18.109375 54.6875 \r\nL 18.109375 46.1875 \r\nQ 21.1875 51.21875 25.484375 53.609375 \r\nQ 29.78125 56 35.6875 56 \r\nQ 41.65625 56 45.828125 52.96875 \r\nQ 50 49.953125 52 44.1875 \r\nz\r\n\" id=\"DejaVuSans-109\"/>\r\n      <path d=\"M 56.203125 29.59375 \r\nL 56.203125 25.203125 \r\nL 14.890625 25.203125 \r\nQ 15.484375 15.921875 20.484375 11.0625 \r\nQ 25.484375 6.203125 34.421875 6.203125 \r\nQ 39.59375 6.203125 44.453125 7.46875 \r\nQ 49.3125 8.734375 54.109375 11.28125 \r\nL 54.109375 2.78125 \r\nQ 49.265625 0.734375 44.1875 -0.34375 \r\nQ 39.109375 -1.421875 33.890625 -1.421875 \r\nQ 20.796875 -1.421875 13.15625 6.1875 \r\nQ 5.515625 13.8125 5.515625 26.8125 \r\nQ 5.515625 40.234375 12.765625 48.109375 \r\nQ 20.015625 56 32.328125 56 \r\nQ 43.359375 56 49.78125 48.890625 \r\nQ 56.203125 41.796875 56.203125 29.59375 \r\nz\r\nM 47.21875 32.234375 \r\nQ 47.125 39.59375 43.09375 43.984375 \r\nQ 39.0625 48.390625 32.421875 48.390625 \r\nQ 24.90625 48.390625 20.390625 44.140625 \r\nQ 15.875 39.890625 15.1875 32.171875 \r\nz\r\n\" id=\"DejaVuSans-101\"/>\r\n      <path id=\"DejaVuSans-32\"/>\r\n      <path d=\"M 54.890625 33.015625 \r\nL 54.890625 0 \r\nL 45.90625 0 \r\nL 45.90625 32.71875 \r\nQ 45.90625 40.484375 42.875 44.328125 \r\nQ 39.84375 48.1875 33.796875 48.1875 \r\nQ 26.515625 48.1875 22.3125 43.546875 \r\nQ 18.109375 38.921875 18.109375 30.90625 \r\nL 18.109375 0 \r\nL 9.078125 0 \r\nL 9.078125 54.6875 \r\nL 18.109375 54.6875 \r\nL 18.109375 46.1875 \r\nQ 21.34375 51.125 25.703125 53.5625 \r\nQ 30.078125 56 35.796875 56 \r\nQ 45.21875 56 50.046875 50.171875 \r\nQ 54.890625 44.34375 54.890625 33.015625 \r\nz\r\n\" id=\"DejaVuSans-110\"/>\r\n      <path d=\"M 9.8125 72.90625 \r\nL 24.515625 72.90625 \r\nL 43.109375 23.296875 \r\nL 61.8125 72.90625 \r\nL 76.515625 72.90625 \r\nL 76.515625 0 \r\nL 66.890625 0 \r\nL 66.890625 64.015625 \r\nL 48.09375 14.015625 \r\nL 38.1875 14.015625 \r\nL 19.390625 64.015625 \r\nL 19.390625 0 \r\nL 9.8125 0 \r\nz\r\n\" id=\"DejaVuSans-77\"/>\r\n      <path d=\"M 8.5 21.578125 \r\nL 8.5 54.6875 \r\nL 17.484375 54.6875 \r\nL 17.484375 21.921875 \r\nQ 17.484375 14.15625 20.5 10.265625 \r\nQ 23.53125 6.390625 29.59375 6.390625 \r\nQ 36.859375 6.390625 41.078125 11.03125 \r\nQ 45.3125 15.671875 45.3125 23.6875 \r\nL 45.3125 54.6875 \r\nL 54.296875 54.6875 \r\nL 54.296875 0 \r\nL 45.3125 0 \r\nL 45.3125 8.40625 \r\nQ 42.046875 3.421875 37.71875 1 \r\nQ 33.40625 -1.421875 27.6875 -1.421875 \r\nQ 18.265625 -1.421875 13.375 4.4375 \r\nQ 8.5 10.296875 8.5 21.578125 \r\nz\r\nM 31.109375 56 \r\nz\r\n\" id=\"DejaVuSans-117\"/>\r\n      <path d=\"M 18.3125 70.21875 \r\nL 18.3125 54.6875 \r\nL 36.8125 54.6875 \r\nL 36.8125 47.703125 \r\nL 18.3125 47.703125 \r\nL 18.3125 18.015625 \r\nQ 18.3125 11.328125 20.140625 9.421875 \r\nQ 21.96875 7.515625 27.59375 7.515625 \r\nL 36.8125 7.515625 \r\nL 36.8125 0 \r\nL 27.59375 0 \r\nQ 17.1875 0 13.234375 3.875 \r\nQ 9.28125 7.765625 9.28125 18.015625 \r\nL 9.28125 47.703125 \r\nL 2.6875 47.703125 \r\nL 2.6875 54.6875 \r\nL 9.28125 54.6875 \r\nL 9.28125 70.21875 \r\nz\r\n\" id=\"DejaVuSans-116\"/>\r\n      <path d=\"M 44.28125 53.078125 \r\nL 44.28125 44.578125 \r\nQ 40.484375 46.53125 36.375 47.5 \r\nQ 32.28125 48.484375 27.875 48.484375 \r\nQ 21.1875 48.484375 17.84375 46.4375 \r\nQ 14.5 44.390625 14.5 40.28125 \r\nQ 14.5 37.15625 16.890625 35.375 \r\nQ 19.28125 33.59375 26.515625 31.984375 \r\nL 29.59375 31.296875 \r\nQ 39.15625 29.25 43.1875 25.515625 \r\nQ 47.21875 21.78125 47.21875 15.09375 \r\nQ 47.21875 7.46875 41.1875 3.015625 \r\nQ 35.15625 -1.421875 24.609375 -1.421875 \r\nQ 20.21875 -1.421875 15.453125 -0.5625 \r\nQ 10.6875 0.296875 5.421875 2 \r\nL 5.421875 11.28125 \r\nQ 10.40625 8.6875 15.234375 7.390625 \r\nQ 20.0625 6.109375 24.8125 6.109375 \r\nQ 31.15625 6.109375 34.5625 8.28125 \r\nQ 37.984375 10.453125 37.984375 14.40625 \r\nQ 37.984375 18.0625 35.515625 20.015625 \r\nQ 33.0625 21.96875 24.703125 23.78125 \r\nL 21.578125 24.515625 \r\nQ 13.234375 26.265625 9.515625 29.90625 \r\nQ 5.8125 33.546875 5.8125 39.890625 \r\nQ 5.8125 47.609375 11.28125 51.796875 \r\nQ 16.75 56 26.8125 56 \r\nQ 31.78125 56 36.171875 55.265625 \r\nQ 40.578125 54.546875 44.28125 53.078125 \r\nz\r\n\" id=\"DejaVuSans-115\"/>\r\n     </defs>\r\n     <g transform=\"translate(233.704687 414.585)scale(0.14 -0.14)\">\r\n      <use xlink:href=\"#DejaVuSans-84\"/>\r\n      <use x=\"57.958984\" xlink:href=\"#DejaVuSans-105\"/>\r\n      <use x=\"85.742188\" xlink:href=\"#DejaVuSans-109\"/>\r\n      <use x=\"183.154297\" xlink:href=\"#DejaVuSans-101\"/>\r\n      <use x=\"244.677734\" xlink:href=\"#DejaVuSans-32\"/>\r\n      <use x=\"276.464844\" xlink:href=\"#DejaVuSans-105\"/>\r\n      <use x=\"304.248047\" xlink:href=\"#DejaVuSans-110\"/>\r\n      <use x=\"367.626953\" xlink:href=\"#DejaVuSans-32\"/>\r\n      <use x=\"399.414062\" xlink:href=\"#DejaVuSans-77\"/>\r\n      <use x=\"485.693359\" xlink:href=\"#DejaVuSans-105\"/>\r\n      <use x=\"513.476562\" xlink:href=\"#DejaVuSans-110\"/>\r\n      <use x=\"576.855469\" xlink:href=\"#DejaVuSans-117\"/>\r\n      <use x=\"640.234375\" xlink:href=\"#DejaVuSans-116\"/>\r\n      <use x=\"679.443359\" xlink:href=\"#DejaVuSans-101\"/>\r\n      <use x=\"740.966797\" xlink:href=\"#DejaVuSans-115\"/>\r\n     </g>\r\n    </g>\r\n   </g>\r\n   <g id=\"matplotlib.axis_2\">\r\n    <g id=\"ytick_1\">\r\n     <g id=\"line2d_19\">\r\n      <path clip-path=\"url(#p19a62f8997)\" d=\"M 38.656875 381.397813 \r\nL 539.776875 381.397813 \r\n\" style=\"fill:none;stroke:#cbcbcb;\"/>\r\n     </g>\r\n     <g id=\"line2d_20\"/>\r\n     <g id=\"line2d_21\"/>\r\n     <g id=\"text_8\">\r\n      <!-- 1 -->\r\n      <g transform=\"translate(25.749375 385.260938)scale(0.14 -0.14)\">\r\n       <use xlink:href=\"#DejaVuSans-49\"/>\r\n      </g>\r\n     </g>\r\n    </g>\r\n    <g id=\"ytick_2\">\r\n     <g id=\"line2d_22\">\r\n      <path clip-path=\"url(#p19a62f8997)\" d=\"M 38.656875 321.637812 \r\nL 539.776875 321.637812 \r\n\" style=\"fill:none;stroke:#cbcbcb;\"/>\r\n     </g>\r\n     <g id=\"line2d_23\"/>\r\n     <g id=\"line2d_24\"/>\r\n     <g id=\"text_9\">\r\n      <!-- 2 -->\r\n      <g transform=\"translate(25.749375 325.500937)scale(0.14 -0.14)\">\r\n       <use xlink:href=\"#DejaVuSans-50\"/>\r\n      </g>\r\n     </g>\r\n    </g>\r\n    <g id=\"ytick_3\">\r\n     <g id=\"line2d_25\">\r\n      <path clip-path=\"url(#p19a62f8997)\" d=\"M 38.656875 261.877813 \r\nL 539.776875 261.877813 \r\n\" style=\"fill:none;stroke:#cbcbcb;\"/>\r\n     </g>\r\n     <g id=\"line2d_26\"/>\r\n     <g id=\"line2d_27\"/>\r\n     <g id=\"text_10\">\r\n      <!-- 3 -->\r\n      <g transform=\"translate(25.749375 265.740937)scale(0.14 -0.14)\">\r\n       <use xlink:href=\"#DejaVuSans-51\"/>\r\n      </g>\r\n     </g>\r\n    </g>\r\n    <g id=\"ytick_4\">\r\n     <g id=\"line2d_28\">\r\n      <path clip-path=\"url(#p19a62f8997)\" d=\"M 38.656875 202.117813 \r\nL 539.776875 202.117813 \r\n\" style=\"fill:none;stroke:#cbcbcb;\"/>\r\n     </g>\r\n     <g id=\"line2d_29\"/>\r\n     <g id=\"line2d_30\"/>\r\n     <g id=\"text_11\">\r\n      <!-- 4 -->\r\n      <g transform=\"translate(25.749375 205.980938)scale(0.14 -0.14)\">\r\n       <use xlink:href=\"#DejaVuSans-52\"/>\r\n      </g>\r\n     </g>\r\n    </g>\r\n    <g id=\"ytick_5\">\r\n     <g id=\"line2d_31\">\r\n      <path clip-path=\"url(#p19a62f8997)\" d=\"M 38.656875 142.357813 \r\nL 539.776875 142.357813 \r\n\" style=\"fill:none;stroke:#cbcbcb;\"/>\r\n     </g>\r\n     <g id=\"line2d_32\"/>\r\n     <g id=\"line2d_33\"/>\r\n     <g id=\"text_12\">\r\n      <!-- 5 -->\r\n      <g transform=\"translate(25.749375 146.220938)scale(0.14 -0.14)\">\r\n       <use xlink:href=\"#DejaVuSans-53\"/>\r\n      </g>\r\n     </g>\r\n    </g>\r\n    <g id=\"ytick_6\">\r\n     <g id=\"line2d_34\">\r\n      <path clip-path=\"url(#p19a62f8997)\" d=\"M 38.656875 82.597812 \r\nL 539.776875 82.597812 \r\n\" style=\"fill:none;stroke:#cbcbcb;\"/>\r\n     </g>\r\n     <g id=\"line2d_35\"/>\r\n     <g id=\"line2d_36\"/>\r\n     <g id=\"text_13\">\r\n      <!-- 6 -->\r\n      <defs>\r\n       <path d=\"M 33.015625 40.375 \r\nQ 26.375 40.375 22.484375 35.828125 \r\nQ 18.609375 31.296875 18.609375 23.390625 \r\nQ 18.609375 15.53125 22.484375 10.953125 \r\nQ 26.375 6.390625 33.015625 6.390625 \r\nQ 39.65625 6.390625 43.53125 10.953125 \r\nQ 47.40625 15.53125 47.40625 23.390625 \r\nQ 47.40625 31.296875 43.53125 35.828125 \r\nQ 39.65625 40.375 33.015625 40.375 \r\nz\r\nM 52.59375 71.296875 \r\nL 52.59375 62.3125 \r\nQ 48.875 64.0625 45.09375 64.984375 \r\nQ 41.3125 65.921875 37.59375 65.921875 \r\nQ 27.828125 65.921875 22.671875 59.328125 \r\nQ 17.53125 52.734375 16.796875 39.40625 \r\nQ 19.671875 43.65625 24.015625 45.921875 \r\nQ 28.375 48.1875 33.59375 48.1875 \r\nQ 44.578125 48.1875 50.953125 41.515625 \r\nQ 57.328125 34.859375 57.328125 23.390625 \r\nQ 57.328125 12.15625 50.6875 5.359375 \r\nQ 44.046875 -1.421875 33.015625 -1.421875 \r\nQ 20.359375 -1.421875 13.671875 8.265625 \r\nQ 6.984375 17.96875 6.984375 36.375 \r\nQ 6.984375 53.65625 15.1875 63.9375 \r\nQ 23.390625 74.21875 37.203125 74.21875 \r\nQ 40.921875 74.21875 44.703125 73.484375 \r\nQ 48.484375 72.75 52.59375 71.296875 \r\nz\r\n\" id=\"DejaVuSans-54\"/>\r\n      </defs>\r\n      <g transform=\"translate(25.749375 86.460938)scale(0.14 -0.14)\">\r\n       <use xlink:href=\"#DejaVuSans-54\"/>\r\n      </g>\r\n     </g>\r\n    </g>\r\n    <g id=\"ytick_7\">\r\n     <g id=\"line2d_37\">\r\n      <path clip-path=\"url(#p19a62f8997)\" d=\"M 38.656875 22.837812 \r\nL 539.776875 22.837812 \r\n\" style=\"fill:none;stroke:#cbcbcb;\"/>\r\n     </g>\r\n     <g id=\"line2d_38\"/>\r\n     <g id=\"line2d_39\"/>\r\n     <g id=\"text_14\">\r\n      <!-- 7 -->\r\n      <defs>\r\n       <path d=\"M 8.203125 72.90625 \r\nL 55.078125 72.90625 \r\nL 55.078125 68.703125 \r\nL 28.609375 0 \r\nL 18.3125 0 \r\nL 43.21875 64.59375 \r\nL 8.203125 64.59375 \r\nz\r\n\" id=\"DejaVuSans-55\"/>\r\n      </defs>\r\n      <g transform=\"translate(25.749375 26.700938)scale(0.14 -0.14)\">\r\n       <use xlink:href=\"#DejaVuSans-55\"/>\r\n      </g>\r\n     </g>\r\n    </g>\r\n    <g id=\"text_15\">\r\n     <!-- Tissue LSD ppm -->\r\n     <defs>\r\n      <path d=\"M 9.8125 72.90625 \r\nL 19.671875 72.90625 \r\nL 19.671875 8.296875 \r\nL 55.171875 8.296875 \r\nL 55.171875 0 \r\nL 9.8125 0 \r\nz\r\n\" id=\"DejaVuSans-76\"/>\r\n      <path d=\"M 53.515625 70.515625 \r\nL 53.515625 60.890625 \r\nQ 47.90625 63.578125 42.921875 64.890625 \r\nQ 37.9375 66.21875 33.296875 66.21875 \r\nQ 25.25 66.21875 20.875 63.09375 \r\nQ 16.5 59.96875 16.5 54.203125 \r\nQ 16.5 49.359375 19.40625 46.890625 \r\nQ 22.3125 44.4375 30.421875 42.921875 \r\nL 36.375 41.703125 \r\nQ 47.40625 39.59375 52.65625 34.296875 \r\nQ 57.90625 29 57.90625 20.125 \r\nQ 57.90625 9.515625 50.796875 4.046875 \r\nQ 43.703125 -1.421875 29.984375 -1.421875 \r\nQ 24.8125 -1.421875 18.96875 -0.25 \r\nQ 13.140625 0.921875 6.890625 3.21875 \r\nL 6.890625 13.375 \r\nQ 12.890625 10.015625 18.65625 8.296875 \r\nQ 24.421875 6.59375 29.984375 6.59375 \r\nQ 38.421875 6.59375 43.015625 9.90625 \r\nQ 47.609375 13.234375 47.609375 19.390625 \r\nQ 47.609375 24.75 44.3125 27.78125 \r\nQ 41.015625 30.8125 33.5 32.328125 \r\nL 27.484375 33.5 \r\nQ 16.453125 35.6875 11.515625 40.375 \r\nQ 6.59375 45.0625 6.59375 53.421875 \r\nQ 6.59375 63.09375 13.40625 68.65625 \r\nQ 20.21875 74.21875 32.171875 74.21875 \r\nQ 37.3125 74.21875 42.625 73.28125 \r\nQ 47.953125 72.359375 53.515625 70.515625 \r\nz\r\n\" id=\"DejaVuSans-83\"/>\r\n      <path d=\"M 19.671875 64.796875 \r\nL 19.671875 8.109375 \r\nL 31.59375 8.109375 \r\nQ 46.6875 8.109375 53.6875 14.9375 \r\nQ 60.6875 21.78125 60.6875 36.53125 \r\nQ 60.6875 51.171875 53.6875 57.984375 \r\nQ 46.6875 64.796875 31.59375 64.796875 \r\nz\r\nM 9.8125 72.90625 \r\nL 30.078125 72.90625 \r\nQ 51.265625 72.90625 61.171875 64.09375 \r\nQ 71.09375 55.28125 71.09375 36.53125 \r\nQ 71.09375 17.671875 61.125 8.828125 \r\nQ 51.171875 0 30.078125 0 \r\nL 9.8125 0 \r\nz\r\n\" id=\"DejaVuSans-68\"/>\r\n      <path d=\"M 18.109375 8.203125 \r\nL 18.109375 -20.796875 \r\nL 9.078125 -20.796875 \r\nL 9.078125 54.6875 \r\nL 18.109375 54.6875 \r\nL 18.109375 46.390625 \r\nQ 20.953125 51.265625 25.265625 53.625 \r\nQ 29.59375 56 35.59375 56 \r\nQ 45.5625 56 51.78125 48.09375 \r\nQ 58.015625 40.1875 58.015625 27.296875 \r\nQ 58.015625 14.40625 51.78125 6.484375 \r\nQ 45.5625 -1.421875 35.59375 -1.421875 \r\nQ 29.59375 -1.421875 25.265625 0.953125 \r\nQ 20.953125 3.328125 18.109375 8.203125 \r\nz\r\nM 48.6875 27.296875 \r\nQ 48.6875 37.203125 44.609375 42.84375 \r\nQ 40.53125 48.484375 33.40625 48.484375 \r\nQ 26.265625 48.484375 22.1875 42.84375 \r\nQ 18.109375 37.203125 18.109375 27.296875 \r\nQ 18.109375 17.390625 22.1875 11.75 \r\nQ 26.265625 6.109375 33.40625 6.109375 \r\nQ 40.53125 6.109375 44.609375 11.75 \r\nQ 48.6875 17.390625 48.6875 27.296875 \r\nz\r\n\" id=\"DejaVuSans-112\"/>\r\n     </defs>\r\n     <g transform=\"translate(17.837813 258.045625)rotate(-90)scale(0.14 -0.14)\">\r\n      <use xlink:href=\"#DejaVuSans-84\"/>\r\n      <use x=\"57.958984\" xlink:href=\"#DejaVuSans-105\"/>\r\n      <use x=\"85.742188\" xlink:href=\"#DejaVuSans-115\"/>\r\n      <use x=\"137.841797\" xlink:href=\"#DejaVuSans-115\"/>\r\n      <use x=\"189.941406\" xlink:href=\"#DejaVuSans-117\"/>\r\n      <use x=\"253.320312\" xlink:href=\"#DejaVuSans-101\"/>\r\n      <use x=\"314.84375\" xlink:href=\"#DejaVuSans-32\"/>\r\n      <use x=\"346.630859\" xlink:href=\"#DejaVuSans-76\"/>\r\n      <use x=\"402.34375\" xlink:href=\"#DejaVuSans-83\"/>\r\n      <use x=\"465.820312\" xlink:href=\"#DejaVuSans-68\"/>\r\n      <use x=\"542.822266\" xlink:href=\"#DejaVuSans-32\"/>\r\n      <use x=\"574.609375\" xlink:href=\"#DejaVuSans-112\"/>\r\n      <use x=\"638.085938\" xlink:href=\"#DejaVuSans-112\"/>\r\n      <use x=\"701.5625\" xlink:href=\"#DejaVuSans-109\"/>\r\n     </g>\r\n    </g>\r\n   </g>\r\n   <g id=\"line2d_40\">\r\n    <path clip-path=\"url(#p19a62f8997)\" d=\"M 43.668075 371.238613 \r\nL 53.690475 263.670613 \r\nL 68.724075 246.340213 \r\nL 98.791275 160.883412 \r\nL 158.925675 92.757012 \r\nL 279.194475 82.597812 \r\nL 519.732075 58.096212 \r\n\" style=\"fill:none;stroke:#008000;stroke-width:3;\"/>\r\n   </g>\r\n   <g id=\"patch_3\">\r\n    <path d=\"M 38.656875 381.397813 \r\nL 38.656875 22.837812 \r\n\" style=\"fill:none;stroke:#f0f0f0;stroke-linecap:square;stroke-linejoin:miter;stroke-width:3;\"/>\r\n   </g>\r\n   <g id=\"patch_4\">\r\n    <path d=\"M 539.776875 381.397813 \r\nL 539.776875 22.837812 \r\n\" style=\"fill:none;stroke:#f0f0f0;stroke-linecap:square;stroke-linejoin:miter;stroke-width:3;\"/>\r\n   </g>\r\n   <g id=\"patch_5\">\r\n    <path d=\"M 38.656875 381.397812 \r\nL 539.776875 381.397812 \r\n\" style=\"fill:none;stroke:#f0f0f0;stroke-linecap:square;stroke-linejoin:miter;stroke-width:3;\"/>\r\n   </g>\r\n   <g id=\"patch_6\">\r\n    <path d=\"M 38.656875 22.837812 \r\nL 539.776875 22.837812 \r\n\" style=\"fill:none;stroke:#f0f0f0;stroke-linecap:square;stroke-linejoin:miter;stroke-width:3;\"/>\r\n   </g>\r\n   <g id=\"text_16\">\r\n    <!-- Wagner et al. (1968) -->\r\n    <defs>\r\n     <path d=\"M 3.328125 72.90625 \r\nL 13.28125 72.90625 \r\nL 28.609375 11.28125 \r\nL 43.890625 72.90625 \r\nL 54.984375 72.90625 \r\nL 70.3125 11.28125 \r\nL 85.59375 72.90625 \r\nL 95.609375 72.90625 \r\nL 77.296875 0 \r\nL 64.890625 0 \r\nL 49.515625 63.28125 \r\nL 33.984375 0 \r\nL 21.578125 0 \r\nz\r\n\" id=\"DejaVuSans-87\"/>\r\n     <path d=\"M 34.28125 27.484375 \r\nQ 23.390625 27.484375 19.1875 25 \r\nQ 14.984375 22.515625 14.984375 16.5 \r\nQ 14.984375 11.71875 18.140625 8.90625 \r\nQ 21.296875 6.109375 26.703125 6.109375 \r\nQ 34.1875 6.109375 38.703125 11.40625 \r\nQ 43.21875 16.703125 43.21875 25.484375 \r\nL 43.21875 27.484375 \r\nz\r\nM 52.203125 31.203125 \r\nL 52.203125 0 \r\nL 43.21875 0 \r\nL 43.21875 8.296875 \r\nQ 40.140625 3.328125 35.546875 0.953125 \r\nQ 30.953125 -1.421875 24.3125 -1.421875 \r\nQ 15.921875 -1.421875 10.953125 3.296875 \r\nQ 6 8.015625 6 15.921875 \r\nQ 6 25.140625 12.171875 29.828125 \r\nQ 18.359375 34.515625 30.609375 34.515625 \r\nL 43.21875 34.515625 \r\nL 43.21875 35.40625 \r\nQ 43.21875 41.609375 39.140625 45 \r\nQ 35.0625 48.390625 27.6875 48.390625 \r\nQ 23 48.390625 18.546875 47.265625 \r\nQ 14.109375 46.140625 10.015625 43.890625 \r\nL 10.015625 52.203125 \r\nQ 14.9375 54.109375 19.578125 55.046875 \r\nQ 24.21875 56 28.609375 56 \r\nQ 40.484375 56 46.34375 49.84375 \r\nQ 52.203125 43.703125 52.203125 31.203125 \r\nz\r\n\" id=\"DejaVuSans-97\"/>\r\n     <path d=\"M 45.40625 27.984375 \r\nQ 45.40625 37.75 41.375 43.109375 \r\nQ 37.359375 48.484375 30.078125 48.484375 \r\nQ 22.859375 48.484375 18.828125 43.109375 \r\nQ 14.796875 37.75 14.796875 27.984375 \r\nQ 14.796875 18.265625 18.828125 12.890625 \r\nQ 22.859375 7.515625 30.078125 7.515625 \r\nQ 37.359375 7.515625 41.375 12.890625 \r\nQ 45.40625 18.265625 45.40625 27.984375 \r\nz\r\nM 54.390625 6.78125 \r\nQ 54.390625 -7.171875 48.1875 -13.984375 \r\nQ 42 -20.796875 29.203125 -20.796875 \r\nQ 24.46875 -20.796875 20.265625 -20.09375 \r\nQ 16.0625 -19.390625 12.109375 -17.921875 \r\nL 12.109375 -9.1875 \r\nQ 16.0625 -11.328125 19.921875 -12.34375 \r\nQ 23.78125 -13.375 27.78125 -13.375 \r\nQ 36.625 -13.375 41.015625 -8.765625 \r\nQ 45.40625 -4.15625 45.40625 5.171875 \r\nL 45.40625 9.625 \r\nQ 42.625 4.78125 38.28125 2.390625 \r\nQ 33.9375 0 27.875 0 \r\nQ 17.828125 0 11.671875 7.65625 \r\nQ 5.515625 15.328125 5.515625 27.984375 \r\nQ 5.515625 40.671875 11.671875 48.328125 \r\nQ 17.828125 56 27.875 56 \r\nQ 33.9375 56 38.28125 53.609375 \r\nQ 42.625 51.21875 45.40625 46.390625 \r\nL 45.40625 54.6875 \r\nL 54.390625 54.6875 \r\nz\r\n\" id=\"DejaVuSans-103\"/>\r\n     <path d=\"M 41.109375 46.296875 \r\nQ 39.59375 47.171875 37.8125 47.578125 \r\nQ 36.03125 48 33.890625 48 \r\nQ 26.265625 48 22.1875 43.046875 \r\nQ 18.109375 38.09375 18.109375 28.8125 \r\nL 18.109375 0 \r\nL 9.078125 0 \r\nL 9.078125 54.6875 \r\nL 18.109375 54.6875 \r\nL 18.109375 46.1875 \r\nQ 20.953125 51.171875 25.484375 53.578125 \r\nQ 30.03125 56 36.53125 56 \r\nQ 37.453125 56 38.578125 55.875 \r\nQ 39.703125 55.765625 41.0625 55.515625 \r\nz\r\n\" id=\"DejaVuSans-114\"/>\r\n     <path d=\"M 9.421875 75.984375 \r\nL 18.40625 75.984375 \r\nL 18.40625 0 \r\nL 9.421875 0 \r\nz\r\n\" id=\"DejaVuSans-108\"/>\r\n     <path d=\"M 10.6875 12.40625 \r\nL 21 12.40625 \r\nL 21 0 \r\nL 10.6875 0 \r\nz\r\n\" id=\"DejaVuSans-46\"/>\r\n     <path d=\"M 31 75.875 \r\nQ 24.46875 64.65625 21.28125 53.65625 \r\nQ 18.109375 42.671875 18.109375 31.390625 \r\nQ 18.109375 20.125 21.3125 9.0625 \r\nQ 24.515625 -2 31 -13.1875 \r\nL 23.1875 -13.1875 \r\nQ 15.875 -1.703125 12.234375 9.375 \r\nQ 8.59375 20.453125 8.59375 31.390625 \r\nQ 8.59375 42.28125 12.203125 53.3125 \r\nQ 15.828125 64.359375 23.1875 75.875 \r\nz\r\n\" id=\"DejaVuSans-40\"/>\r\n     <path d=\"M 10.984375 1.515625 \r\nL 10.984375 10.5 \r\nQ 14.703125 8.734375 18.5 7.8125 \r\nQ 22.3125 6.890625 25.984375 6.890625 \r\nQ 35.75 6.890625 40.890625 13.453125 \r\nQ 46.046875 20.015625 46.78125 33.40625 \r\nQ 43.953125 29.203125 39.59375 26.953125 \r\nQ 35.25 24.703125 29.984375 24.703125 \r\nQ 19.046875 24.703125 12.671875 31.3125 \r\nQ 6.296875 37.9375 6.296875 49.421875 \r\nQ 6.296875 60.640625 12.9375 67.421875 \r\nQ 19.578125 74.21875 30.609375 74.21875 \r\nQ 43.265625 74.21875 49.921875 64.515625 \r\nQ 56.59375 54.828125 56.59375 36.375 \r\nQ 56.59375 19.140625 48.40625 8.859375 \r\nQ 40.234375 -1.421875 26.421875 -1.421875 \r\nQ 22.703125 -1.421875 18.890625 -0.6875 \r\nQ 15.09375 0.046875 10.984375 1.515625 \r\nz\r\nM 30.609375 32.421875 \r\nQ 37.25 32.421875 41.125 36.953125 \r\nQ 45.015625 41.5 45.015625 49.421875 \r\nQ 45.015625 57.28125 41.125 61.84375 \r\nQ 37.25 66.40625 30.609375 66.40625 \r\nQ 23.96875 66.40625 20.09375 61.84375 \r\nQ 16.21875 57.28125 16.21875 49.421875 \r\nQ 16.21875 41.5 20.09375 36.953125 \r\nQ 23.96875 32.421875 30.609375 32.421875 \r\nz\r\n\" id=\"DejaVuSans-57\"/>\r\n     <path d=\"M 31.78125 34.625 \r\nQ 24.75 34.625 20.71875 30.859375 \r\nQ 16.703125 27.09375 16.703125 20.515625 \r\nQ 16.703125 13.921875 20.71875 10.15625 \r\nQ 24.75 6.390625 31.78125 6.390625 \r\nQ 38.8125 6.390625 42.859375 10.171875 \r\nQ 46.921875 13.96875 46.921875 20.515625 \r\nQ 46.921875 27.09375 42.890625 30.859375 \r\nQ 38.875 34.625 31.78125 34.625 \r\nz\r\nM 21.921875 38.8125 \r\nQ 15.578125 40.375 12.03125 44.71875 \r\nQ 8.5 49.078125 8.5 55.328125 \r\nQ 8.5 64.0625 14.71875 69.140625 \r\nQ 20.953125 74.21875 31.78125 74.21875 \r\nQ 42.671875 74.21875 48.875 69.140625 \r\nQ 55.078125 64.0625 55.078125 55.328125 \r\nQ 55.078125 49.078125 51.53125 44.71875 \r\nQ 48 40.375 41.703125 38.8125 \r\nQ 48.828125 37.15625 52.796875 32.3125 \r\nQ 56.78125 27.484375 56.78125 20.515625 \r\nQ 56.78125 9.90625 50.3125 4.234375 \r\nQ 43.84375 -1.421875 31.78125 -1.421875 \r\nQ 19.734375 -1.421875 13.25 4.234375 \r\nQ 6.78125 9.90625 6.78125 20.515625 \r\nQ 6.78125 27.484375 10.78125 32.3125 \r\nQ 14.796875 37.15625 21.921875 38.8125 \r\nz\r\nM 18.3125 54.390625 \r\nQ 18.3125 48.734375 21.84375 45.5625 \r\nQ 25.390625 42.390625 31.78125 42.390625 \r\nQ 38.140625 42.390625 41.71875 45.5625 \r\nQ 45.3125 48.734375 45.3125 54.390625 \r\nQ 45.3125 60.0625 41.71875 63.234375 \r\nQ 38.140625 66.40625 31.78125 66.40625 \r\nQ 25.390625 66.40625 21.84375 63.234375 \r\nQ 18.3125 60.0625 18.3125 54.390625 \r\nz\r\n\" id=\"DejaVuSans-56\"/>\r\n     <path d=\"M 8.015625 75.875 \r\nL 15.828125 75.875 \r\nQ 23.140625 64.359375 26.78125 53.3125 \r\nQ 30.421875 42.28125 30.421875 31.390625 \r\nQ 30.421875 20.453125 26.78125 9.375 \r\nQ 23.140625 -1.703125 15.828125 -13.1875 \r\nL 8.015625 -13.1875 \r\nQ 14.5 -2 17.703125 9.0625 \r\nQ 20.90625 20.125 20.90625 31.390625 \r\nQ 20.90625 42.671875 17.703125 53.65625 \r\nQ 14.5 64.65625 8.015625 75.875 \r\nz\r\n\" id=\"DejaVuSans-41\"/>\r\n    </defs>\r\n    <g transform=\"translate(38.656875 471.037813)scale(0.14 -0.14)\">\r\n     <use xlink:href=\"#DejaVuSans-87\"/>\r\n     <use x=\"92.501953\" xlink:href=\"#DejaVuSans-97\"/>\r\n     <use x=\"153.78125\" xlink:href=\"#DejaVuSans-103\"/>\r\n     <use x=\"217.257812\" xlink:href=\"#DejaVuSans-110\"/>\r\n     <use x=\"280.636719\" xlink:href=\"#DejaVuSans-101\"/>\r\n     <use x=\"342.160156\" xlink:href=\"#DejaVuSans-114\"/>\r\n     <use x=\"383.273438\" xlink:href=\"#DejaVuSans-32\"/>\r\n     <use x=\"415.060547\" xlink:href=\"#DejaVuSans-101\"/>\r\n     <use x=\"476.583984\" xlink:href=\"#DejaVuSans-116\"/>\r\n     <use x=\"515.792969\" xlink:href=\"#DejaVuSans-32\"/>\r\n     <use x=\"547.580078\" xlink:href=\"#DejaVuSans-97\"/>\r\n     <use x=\"608.859375\" xlink:href=\"#DejaVuSans-108\"/>\r\n     <use x=\"636.642578\" xlink:href=\"#DejaVuSans-46\"/>\r\n     <use x=\"668.429688\" xlink:href=\"#DejaVuSans-32\"/>\r\n     <use x=\"700.216797\" xlink:href=\"#DejaVuSans-40\"/>\r\n     <use x=\"739.230469\" xlink:href=\"#DejaVuSans-49\"/>\r\n     <use x=\"802.853516\" xlink:href=\"#DejaVuSans-57\"/>\r\n     <use x=\"866.476562\" xlink:href=\"#DejaVuSans-54\"/>\r\n     <use x=\"930.099609\" xlink:href=\"#DejaVuSans-56\"/>\r\n     <use x=\"993.722656\" xlink:href=\"#DejaVuSans-41\"/>\r\n    </g>\r\n   </g>\r\n   <g id=\"text_17\">\r\n    <!-- Tissue concentraction of LSD over time -->\r\n    <defs>\r\n     <path d=\"M 48.78125 52.59375 \r\nL 48.78125 44.1875 \r\nQ 44.96875 46.296875 41.140625 47.34375 \r\nQ 37.3125 48.390625 33.40625 48.390625 \r\nQ 24.65625 48.390625 19.8125 42.84375 \r\nQ 14.984375 37.3125 14.984375 27.296875 \r\nQ 14.984375 17.28125 19.8125 11.734375 \r\nQ 24.65625 6.203125 33.40625 6.203125 \r\nQ 37.3125 6.203125 41.140625 7.25 \r\nQ 44.96875 8.296875 48.78125 10.40625 \r\nL 48.78125 2.09375 \r\nQ 45.015625 0.34375 40.984375 -0.53125 \r\nQ 36.96875 -1.421875 32.421875 -1.421875 \r\nQ 20.0625 -1.421875 12.78125 6.34375 \r\nQ 5.515625 14.109375 5.515625 27.296875 \r\nQ 5.515625 40.671875 12.859375 48.328125 \r\nQ 20.21875 56 33.015625 56 \r\nQ 37.15625 56 41.109375 55.140625 \r\nQ 45.0625 54.296875 48.78125 52.59375 \r\nz\r\n\" id=\"DejaVuSans-99\"/>\r\n     <path d=\"M 30.609375 48.390625 \r\nQ 23.390625 48.390625 19.1875 42.75 \r\nQ 14.984375 37.109375 14.984375 27.296875 \r\nQ 14.984375 17.484375 19.15625 11.84375 \r\nQ 23.34375 6.203125 30.609375 6.203125 \r\nQ 37.796875 6.203125 41.984375 11.859375 \r\nQ 46.1875 17.53125 46.1875 27.296875 \r\nQ 46.1875 37.015625 41.984375 42.703125 \r\nQ 37.796875 48.390625 30.609375 48.390625 \r\nz\r\nM 30.609375 56 \r\nQ 42.328125 56 49.015625 48.375 \r\nQ 55.71875 40.765625 55.71875 27.296875 \r\nQ 55.71875 13.875 49.015625 6.21875 \r\nQ 42.328125 -1.421875 30.609375 -1.421875 \r\nQ 18.84375 -1.421875 12.171875 6.21875 \r\nQ 5.515625 13.875 5.515625 27.296875 \r\nQ 5.515625 40.765625 12.171875 48.375 \r\nQ 18.84375 56 30.609375 56 \r\nz\r\n\" id=\"DejaVuSans-111\"/>\r\n     <path d=\"M 37.109375 75.984375 \r\nL 37.109375 68.5 \r\nL 28.515625 68.5 \r\nQ 23.6875 68.5 21.796875 66.546875 \r\nQ 19.921875 64.59375 19.921875 59.515625 \r\nL 19.921875 54.6875 \r\nL 34.71875 54.6875 \r\nL 34.71875 47.703125 \r\nL 19.921875 47.703125 \r\nL 19.921875 0 \r\nL 10.890625 0 \r\nL 10.890625 47.703125 \r\nL 2.296875 47.703125 \r\nL 2.296875 54.6875 \r\nL 10.890625 54.6875 \r\nL 10.890625 58.5 \r\nQ 10.890625 67.625 15.140625 71.796875 \r\nQ 19.390625 75.984375 28.609375 75.984375 \r\nz\r\n\" id=\"DejaVuSans-102\"/>\r\n     <path d=\"M 2.984375 54.6875 \r\nL 12.5 54.6875 \r\nL 29.59375 8.796875 \r\nL 46.6875 54.6875 \r\nL 56.203125 54.6875 \r\nL 35.6875 0 \r\nL 23.484375 0 \r\nz\r\n\" id=\"DejaVuSans-118\"/>\r\n    </defs>\r\n    <g transform=\"translate(151.818906 17.837812)scale(0.14 -0.14)\">\r\n     <use xlink:href=\"#DejaVuSans-84\"/>\r\n     <use x=\"57.958984\" xlink:href=\"#DejaVuSans-105\"/>\r\n     <use x=\"85.742188\" xlink:href=\"#DejaVuSans-115\"/>\r\n     <use x=\"137.841797\" xlink:href=\"#DejaVuSans-115\"/>\r\n     <use x=\"189.941406\" xlink:href=\"#DejaVuSans-117\"/>\r\n     <use x=\"253.320312\" xlink:href=\"#DejaVuSans-101\"/>\r\n     <use x=\"314.84375\" xlink:href=\"#DejaVuSans-32\"/>\r\n     <use x=\"346.630859\" xlink:href=\"#DejaVuSans-99\"/>\r\n     <use x=\"401.611328\" xlink:href=\"#DejaVuSans-111\"/>\r\n     <use x=\"462.792969\" xlink:href=\"#DejaVuSans-110\"/>\r\n     <use x=\"526.171875\" xlink:href=\"#DejaVuSans-99\"/>\r\n     <use x=\"581.152344\" xlink:href=\"#DejaVuSans-101\"/>\r\n     <use x=\"642.675781\" xlink:href=\"#DejaVuSans-110\"/>\r\n     <use x=\"706.054688\" xlink:href=\"#DejaVuSans-116\"/>\r\n     <use x=\"745.263672\" xlink:href=\"#DejaVuSans-114\"/>\r\n     <use x=\"786.376953\" xlink:href=\"#DejaVuSans-97\"/>\r\n     <use x=\"847.65625\" xlink:href=\"#DejaVuSans-99\"/>\r\n     <use x=\"902.636719\" xlink:href=\"#DejaVuSans-116\"/>\r\n     <use x=\"941.845703\" xlink:href=\"#DejaVuSans-105\"/>\r\n     <use x=\"969.628906\" xlink:href=\"#DejaVuSans-111\"/>\r\n     <use x=\"1030.810547\" xlink:href=\"#DejaVuSans-110\"/>\r\n     <use x=\"1094.189453\" xlink:href=\"#DejaVuSans-32\"/>\r\n     <use x=\"1125.976562\" xlink:href=\"#DejaVuSans-111\"/>\r\n     <use x=\"1187.158203\" xlink:href=\"#DejaVuSans-102\"/>\r\n     <use x=\"1222.363281\" xlink:href=\"#DejaVuSans-32\"/>\r\n     <use x=\"1254.150391\" xlink:href=\"#DejaVuSans-76\"/>\r\n     <use x=\"1309.863281\" xlink:href=\"#DejaVuSans-83\"/>\r\n     <use x=\"1373.339844\" xlink:href=\"#DejaVuSans-68\"/>\r\n     <use x=\"1450.341797\" xlink:href=\"#DejaVuSans-32\"/>\r\n     <use x=\"1482.128906\" xlink:href=\"#DejaVuSans-111\"/>\r\n     <use x=\"1543.310547\" xlink:href=\"#DejaVuSans-118\"/>\r\n     <use x=\"1602.490234\" xlink:href=\"#DejaVuSans-101\"/>\r\n     <use x=\"1664.013672\" xlink:href=\"#DejaVuSans-114\"/>\r\n     <use x=\"1705.126953\" xlink:href=\"#DejaVuSans-32\"/>\r\n     <use x=\"1736.914062\" xlink:href=\"#DejaVuSans-116\"/>\r\n     <use x=\"1776.123047\" xlink:href=\"#DejaVuSans-105\"/>\r\n     <use x=\"1803.90625\" xlink:href=\"#DejaVuSans-109\"/>\r\n     <use x=\"1901.318359\" xlink:href=\"#DejaVuSans-101\"/>\r\n    </g>\r\n   </g>\r\n  </g>\r\n </g>\r\n <defs>\r\n  <clipPath id=\"p19a62f8997\">\r\n   <rect height=\"358.56\" width=\"501.12\" x=\"38.656875\" y=\"22.837812\"/>\r\n  </clipPath>\r\n </defs>\r\n</svg>\r\n",
      "image/png": "[encoded data removed]"
     },
     "metadata": {}
    }
   ],
   "source": [
    "plt.plot(time, LSD, color='g', linewidth = 3)\n",
    "plt.title('Tissue concentraction of LSD over time', fontsize = 14)\n",
    "plt.xlabel('Time in Minutes', fontsize =14)\n",
    "plt.ylabel('Tissue LSD ppm', fontsize=14)\n",
    "plt.text(x=0, y =-0.5, s='Wagner et al. (1968)')\n",
    "plt.xticks(fontsize = 14)\n",
    "plt.yticks(fontsize = 14)\n",
    "\n",
    "plt.ylim(1,7)\n",
    "plt.xlim(0, 500)\n",
    "plt.style.use('classic')\n",
    "\n",
    "plt.show()"
   ]
  },
  {
   "cell_type": "code",
   "execution_count": 393,
   "metadata": {},
   "outputs": [
    {
     "output_type": "stream",
     "name": "stdout",
     "text": [
      "Theta1 :  -9.009466415296783\nIntercept:  89.12387376799306\nR-Square:  0.8778349707775888\n[[78.58279806]\n [62.36575851]\n [59.75301325]\n [46.86947628]\n [36.59868457]\n [35.06707528]\n [31.37319405]]\n"
     ]
    }
   ],
   "source": [
    "regr = LinearRegression()\n",
    "regr.fit(LSD, score)\n",
    "print('Theta1 : ',  regr.coef_[0][0])\n",
    "print('Intercept: ' , regr.intercept_[0])\n",
    "print('R-Square: ', regr.score(LSD, score))\n",
    "predict_score = regr.predict(LSD)\n",
    "print(predict_score)"
   ]
  },
  {
   "cell_type": "code",
   "execution_count": 391,
   "metadata": {},
   "outputs": [
    {
     "output_type": "display_data",
     "data": {
      "text/plain": "<Figure size 640x480 with 1 Axes>",
      "image/svg+xml": "<?xml version=\"1.0\" encoding=\"utf-8\" standalone=\"no\"?>\r\n<!DOCTYPE svg PUBLIC \"-//W3C//DTD SVG 1.1//EN\"\r\n  \"http://www.w3.org/Graphics/SVG/1.1/DTD/svg11.dtd\">\r\n<!-- Created with matplotlib (https://matplotlib.org/) -->\r\n<svg height=\"426.976094pt\" version=\"1.1\" viewBox=\"0 0 555.884375 426.976094\" width=\"555.884375pt\" xmlns=\"http://www.w3.org/2000/svg\" xmlns:xlink=\"http://www.w3.org/1999/xlink\">\r\n <defs>\r\n  <style type=\"text/css\">\r\n*{stroke-linecap:butt;stroke-linejoin:round;}\r\n  </style>\r\n </defs>\r\n <g id=\"figure_1\">\r\n  <g id=\"patch_1\">\r\n   <path d=\"M 0 426.976094 \r\nL 555.884375 426.976094 \r\nL 555.884375 0 \r\nL 0 0 \r\nz\r\n\" style=\"fill:#f0f0f0;\"/>\r\n  </g>\r\n  <g id=\"axes_1\">\r\n   <g id=\"patch_2\">\r\n    <path d=\"M 47.564375 383.677344 \r\nL 548.684375 383.677344 \r\nL 548.684375 25.117344 \r\nL 47.564375 25.117344 \r\nz\r\n\" style=\"fill:#f0f0f0;\"/>\r\n   </g>\r\n   <g id=\"matplotlib.axis_1\">\r\n    <g id=\"xtick_1\">\r\n     <g id=\"line2d_1\">\r\n      <path clip-path=\"url(#p11a9eccb3b)\" d=\"M 47.564375 383.677344 \r\nL 47.564375 25.117344 \r\n\" style=\"fill:none;stroke:#cbcbcb;\"/>\r\n     </g>\r\n     <g id=\"line2d_2\"/>\r\n     <g id=\"line2d_3\"/>\r\n     <g id=\"text_1\">\r\n      <!-- 1 -->\r\n      <defs>\r\n       <path d=\"M 12.40625 8.296875 \r\nL 28.515625 8.296875 \r\nL 28.515625 63.921875 \r\nL 10.984375 60.40625 \r\nL 10.984375 69.390625 \r\nL 28.421875 72.90625 \r\nL 38.28125 72.90625 \r\nL 38.28125 8.296875 \r\nL 54.390625 8.296875 \r\nL 54.390625 0 \r\nL 12.40625 0 \r\nz\r\n\" id=\"DejaVuSans-49\"/>\r\n      </defs>\r\n      <g transform=\"translate(43.110625 398.315156)scale(0.14 -0.14)\">\r\n       <use xlink:href=\"#DejaVuSans-49\"/>\r\n      </g>\r\n     </g>\r\n    </g>\r\n    <g id=\"xtick_2\">\r\n     <g id=\"line2d_4\">\r\n      <path clip-path=\"url(#p11a9eccb3b)\" d=\"M 138.677102 383.677344 \r\nL 138.677102 25.117344 \r\n\" style=\"fill:none;stroke:#cbcbcb;\"/>\r\n     </g>\r\n     <g id=\"line2d_5\"/>\r\n     <g id=\"line2d_6\"/>\r\n     <g id=\"text_2\">\r\n      <!-- 2 -->\r\n      <defs>\r\n       <path d=\"M 19.1875 8.296875 \r\nL 53.609375 8.296875 \r\nL 53.609375 0 \r\nL 7.328125 0 \r\nL 7.328125 8.296875 \r\nQ 12.9375 14.109375 22.625 23.890625 \r\nQ 32.328125 33.6875 34.8125 36.53125 \r\nQ 39.546875 41.84375 41.421875 45.53125 \r\nQ 43.3125 49.21875 43.3125 52.78125 \r\nQ 43.3125 58.59375 39.234375 62.25 \r\nQ 35.15625 65.921875 28.609375 65.921875 \r\nQ 23.96875 65.921875 18.8125 64.3125 \r\nQ 13.671875 62.703125 7.8125 59.421875 \r\nL 7.8125 69.390625 \r\nQ 13.765625 71.78125 18.9375 73 \r\nQ 24.125 74.21875 28.421875 74.21875 \r\nQ 39.75 74.21875 46.484375 68.546875 \r\nQ 53.21875 62.890625 53.21875 53.421875 \r\nQ 53.21875 48.921875 51.53125 44.890625 \r\nQ 49.859375 40.875 45.40625 35.40625 \r\nQ 44.1875 33.984375 37.640625 27.21875 \r\nQ 31.109375 20.453125 19.1875 8.296875 \r\nz\r\n\" id=\"DejaVuSans-50\"/>\r\n      </defs>\r\n      <g transform=\"translate(134.223352 398.315156)scale(0.14 -0.14)\">\r\n       <use xlink:href=\"#DejaVuSans-50\"/>\r\n      </g>\r\n     </g>\r\n    </g>\r\n    <g id=\"xtick_3\">\r\n     <g id=\"line2d_7\">\r\n      <path clip-path=\"url(#p11a9eccb3b)\" d=\"M 229.78983 383.677344 \r\nL 229.78983 25.117344 \r\n\" style=\"fill:none;stroke:#cbcbcb;\"/>\r\n     </g>\r\n     <g id=\"line2d_8\"/>\r\n     <g id=\"line2d_9\"/>\r\n     <g id=\"text_3\">\r\n      <!-- 3 -->\r\n      <defs>\r\n       <path d=\"M 40.578125 39.3125 \r\nQ 47.65625 37.796875 51.625 33 \r\nQ 55.609375 28.21875 55.609375 21.1875 \r\nQ 55.609375 10.40625 48.1875 4.484375 \r\nQ 40.765625 -1.421875 27.09375 -1.421875 \r\nQ 22.515625 -1.421875 17.65625 -0.515625 \r\nQ 12.796875 0.390625 7.625 2.203125 \r\nL 7.625 11.71875 \r\nQ 11.71875 9.328125 16.59375 8.109375 \r\nQ 21.484375 6.890625 26.8125 6.890625 \r\nQ 36.078125 6.890625 40.9375 10.546875 \r\nQ 45.796875 14.203125 45.796875 21.1875 \r\nQ 45.796875 27.640625 41.28125 31.265625 \r\nQ 36.765625 34.90625 28.71875 34.90625 \r\nL 20.21875 34.90625 \r\nL 20.21875 43.015625 \r\nL 29.109375 43.015625 \r\nQ 36.375 43.015625 40.234375 45.921875 \r\nQ 44.09375 48.828125 44.09375 54.296875 \r\nQ 44.09375 59.90625 40.109375 62.90625 \r\nQ 36.140625 65.921875 28.71875 65.921875 \r\nQ 24.65625 65.921875 20.015625 65.03125 \r\nQ 15.375 64.15625 9.8125 62.3125 \r\nL 9.8125 71.09375 \r\nQ 15.4375 72.65625 20.34375 73.4375 \r\nQ 25.25 74.21875 29.59375 74.21875 \r\nQ 40.828125 74.21875 47.359375 69.109375 \r\nQ 53.90625 64.015625 53.90625 55.328125 \r\nQ 53.90625 49.265625 50.4375 45.09375 \r\nQ 46.96875 40.921875 40.578125 39.3125 \r\nz\r\n\" id=\"DejaVuSans-51\"/>\r\n      </defs>\r\n      <g transform=\"translate(225.33608 398.315156)scale(0.14 -0.14)\">\r\n       <use xlink:href=\"#DejaVuSans-51\"/>\r\n      </g>\r\n     </g>\r\n    </g>\r\n    <g id=\"xtick_4\">\r\n     <g id=\"line2d_10\">\r\n      <path clip-path=\"url(#p11a9eccb3b)\" d=\"M 320.902557 383.677344 \r\nL 320.902557 25.117344 \r\n\" style=\"fill:none;stroke:#cbcbcb;\"/>\r\n     </g>\r\n     <g id=\"line2d_11\"/>\r\n     <g id=\"line2d_12\"/>\r\n     <g id=\"text_4\">\r\n      <!-- 4 -->\r\n      <defs>\r\n       <path d=\"M 37.796875 64.3125 \r\nL 12.890625 25.390625 \r\nL 37.796875 25.390625 \r\nz\r\nM 35.203125 72.90625 \r\nL 47.609375 72.90625 \r\nL 47.609375 25.390625 \r\nL 58.015625 25.390625 \r\nL 58.015625 17.1875 \r\nL 47.609375 17.1875 \r\nL 47.609375 0 \r\nL 37.796875 0 \r\nL 37.796875 17.1875 \r\nL 4.890625 17.1875 \r\nL 4.890625 26.703125 \r\nz\r\n\" id=\"DejaVuSans-52\"/>\r\n      </defs>\r\n      <g transform=\"translate(316.448807 398.315156)scale(0.14 -0.14)\">\r\n       <use xlink:href=\"#DejaVuSans-52\"/>\r\n      </g>\r\n     </g>\r\n    </g>\r\n    <g id=\"xtick_5\">\r\n     <g id=\"line2d_13\">\r\n      <path clip-path=\"url(#p11a9eccb3b)\" d=\"M 412.015284 383.677344 \r\nL 412.015284 25.117344 \r\n\" style=\"fill:none;stroke:#cbcbcb;\"/>\r\n     </g>\r\n     <g id=\"line2d_14\"/>\r\n     <g id=\"line2d_15\"/>\r\n     <g id=\"text_5\">\r\n      <!-- 5 -->\r\n      <defs>\r\n       <path d=\"M 10.796875 72.90625 \r\nL 49.515625 72.90625 \r\nL 49.515625 64.59375 \r\nL 19.828125 64.59375 \r\nL 19.828125 46.734375 \r\nQ 21.96875 47.46875 24.109375 47.828125 \r\nQ 26.265625 48.1875 28.421875 48.1875 \r\nQ 40.625 48.1875 47.75 41.5 \r\nQ 54.890625 34.8125 54.890625 23.390625 \r\nQ 54.890625 11.625 47.5625 5.09375 \r\nQ 40.234375 -1.421875 26.90625 -1.421875 \r\nQ 22.3125 -1.421875 17.546875 -0.640625 \r\nQ 12.796875 0.140625 7.71875 1.703125 \r\nL 7.71875 11.625 \r\nQ 12.109375 9.234375 16.796875 8.0625 \r\nQ 21.484375 6.890625 26.703125 6.890625 \r\nQ 35.15625 6.890625 40.078125 11.328125 \r\nQ 45.015625 15.765625 45.015625 23.390625 \r\nQ 45.015625 31 40.078125 35.4375 \r\nQ 35.15625 39.890625 26.703125 39.890625 \r\nQ 22.75 39.890625 18.8125 39.015625 \r\nQ 14.890625 38.140625 10.796875 36.28125 \r\nz\r\n\" id=\"DejaVuSans-53\"/>\r\n      </defs>\r\n      <g transform=\"translate(407.561534 398.315156)scale(0.14 -0.14)\">\r\n       <use xlink:href=\"#DejaVuSans-53\"/>\r\n      </g>\r\n     </g>\r\n    </g>\r\n    <g id=\"xtick_6\">\r\n     <g id=\"line2d_16\">\r\n      <path clip-path=\"url(#p11a9eccb3b)\" d=\"M 503.128011 383.677344 \r\nL 503.128011 25.117344 \r\n\" style=\"fill:none;stroke:#cbcbcb;\"/>\r\n     </g>\r\n     <g id=\"line2d_17\"/>\r\n     <g id=\"line2d_18\"/>\r\n     <g id=\"text_6\">\r\n      <!-- 6 -->\r\n      <defs>\r\n       <path d=\"M 33.015625 40.375 \r\nQ 26.375 40.375 22.484375 35.828125 \r\nQ 18.609375 31.296875 18.609375 23.390625 \r\nQ 18.609375 15.53125 22.484375 10.953125 \r\nQ 26.375 6.390625 33.015625 6.390625 \r\nQ 39.65625 6.390625 43.53125 10.953125 \r\nQ 47.40625 15.53125 47.40625 23.390625 \r\nQ 47.40625 31.296875 43.53125 35.828125 \r\nQ 39.65625 40.375 33.015625 40.375 \r\nz\r\nM 52.59375 71.296875 \r\nL 52.59375 62.3125 \r\nQ 48.875 64.0625 45.09375 64.984375 \r\nQ 41.3125 65.921875 37.59375 65.921875 \r\nQ 27.828125 65.921875 22.671875 59.328125 \r\nQ 17.53125 52.734375 16.796875 39.40625 \r\nQ 19.671875 43.65625 24.015625 45.921875 \r\nQ 28.375 48.1875 33.59375 48.1875 \r\nQ 44.578125 48.1875 50.953125 41.515625 \r\nQ 57.328125 34.859375 57.328125 23.390625 \r\nQ 57.328125 12.15625 50.6875 5.359375 \r\nQ 44.046875 -1.421875 33.015625 -1.421875 \r\nQ 20.359375 -1.421875 13.671875 8.265625 \r\nQ 6.984375 17.96875 6.984375 36.375 \r\nQ 6.984375 53.65625 15.1875 63.9375 \r\nQ 23.390625 74.21875 37.203125 74.21875 \r\nQ 40.921875 74.21875 44.703125 73.484375 \r\nQ 48.484375 72.75 52.59375 71.296875 \r\nz\r\n\" id=\"DejaVuSans-54\"/>\r\n      </defs>\r\n      <g transform=\"translate(498.674261 398.315156)scale(0.14 -0.14)\">\r\n       <use xlink:href=\"#DejaVuSans-54\"/>\r\n      </g>\r\n     </g>\r\n    </g>\r\n    <g id=\"text_7\">\r\n     <!-- Tissue LSD ppm -->\r\n     <defs>\r\n      <path d=\"M -0.296875 72.90625 \r\nL 61.375 72.90625 \r\nL 61.375 64.59375 \r\nL 35.5 64.59375 \r\nL 35.5 0 \r\nL 25.59375 0 \r\nL 25.59375 64.59375 \r\nL -0.296875 64.59375 \r\nz\r\n\" id=\"DejaVuSans-84\"/>\r\n      <path d=\"M 9.421875 54.6875 \r\nL 18.40625 54.6875 \r\nL 18.40625 0 \r\nL 9.421875 0 \r\nz\r\nM 9.421875 75.984375 \r\nL 18.40625 75.984375 \r\nL 18.40625 64.59375 \r\nL 9.421875 64.59375 \r\nz\r\n\" id=\"DejaVuSans-105\"/>\r\n      <path d=\"M 44.28125 53.078125 \r\nL 44.28125 44.578125 \r\nQ 40.484375 46.53125 36.375 47.5 \r\nQ 32.28125 48.484375 27.875 48.484375 \r\nQ 21.1875 48.484375 17.84375 46.4375 \r\nQ 14.5 44.390625 14.5 40.28125 \r\nQ 14.5 37.15625 16.890625 35.375 \r\nQ 19.28125 33.59375 26.515625 31.984375 \r\nL 29.59375 31.296875 \r\nQ 39.15625 29.25 43.1875 25.515625 \r\nQ 47.21875 21.78125 47.21875 15.09375 \r\nQ 47.21875 7.46875 41.1875 3.015625 \r\nQ 35.15625 -1.421875 24.609375 -1.421875 \r\nQ 20.21875 -1.421875 15.453125 -0.5625 \r\nQ 10.6875 0.296875 5.421875 2 \r\nL 5.421875 11.28125 \r\nQ 10.40625 8.6875 15.234375 7.390625 \r\nQ 20.0625 6.109375 24.8125 6.109375 \r\nQ 31.15625 6.109375 34.5625 8.28125 \r\nQ 37.984375 10.453125 37.984375 14.40625 \r\nQ 37.984375 18.0625 35.515625 20.015625 \r\nQ 33.0625 21.96875 24.703125 23.78125 \r\nL 21.578125 24.515625 \r\nQ 13.234375 26.265625 9.515625 29.90625 \r\nQ 5.8125 33.546875 5.8125 39.890625 \r\nQ 5.8125 47.609375 11.28125 51.796875 \r\nQ 16.75 56 26.8125 56 \r\nQ 31.78125 56 36.171875 55.265625 \r\nQ 40.578125 54.546875 44.28125 53.078125 \r\nz\r\n\" id=\"DejaVuSans-115\"/>\r\n      <path d=\"M 8.5 21.578125 \r\nL 8.5 54.6875 \r\nL 17.484375 54.6875 \r\nL 17.484375 21.921875 \r\nQ 17.484375 14.15625 20.5 10.265625 \r\nQ 23.53125 6.390625 29.59375 6.390625 \r\nQ 36.859375 6.390625 41.078125 11.03125 \r\nQ 45.3125 15.671875 45.3125 23.6875 \r\nL 45.3125 54.6875 \r\nL 54.296875 54.6875 \r\nL 54.296875 0 \r\nL 45.3125 0 \r\nL 45.3125 8.40625 \r\nQ 42.046875 3.421875 37.71875 1 \r\nQ 33.40625 -1.421875 27.6875 -1.421875 \r\nQ 18.265625 -1.421875 13.375 4.4375 \r\nQ 8.5 10.296875 8.5 21.578125 \r\nz\r\nM 31.109375 56 \r\nz\r\n\" id=\"DejaVuSans-117\"/>\r\n      <path d=\"M 56.203125 29.59375 \r\nL 56.203125 25.203125 \r\nL 14.890625 25.203125 \r\nQ 15.484375 15.921875 20.484375 11.0625 \r\nQ 25.484375 6.203125 34.421875 6.203125 \r\nQ 39.59375 6.203125 44.453125 7.46875 \r\nQ 49.3125 8.734375 54.109375 11.28125 \r\nL 54.109375 2.78125 \r\nQ 49.265625 0.734375 44.1875 -0.34375 \r\nQ 39.109375 -1.421875 33.890625 -1.421875 \r\nQ 20.796875 -1.421875 13.15625 6.1875 \r\nQ 5.515625 13.8125 5.515625 26.8125 \r\nQ 5.515625 40.234375 12.765625 48.109375 \r\nQ 20.015625 56 32.328125 56 \r\nQ 43.359375 56 49.78125 48.890625 \r\nQ 56.203125 41.796875 56.203125 29.59375 \r\nz\r\nM 47.21875 32.234375 \r\nQ 47.125 39.59375 43.09375 43.984375 \r\nQ 39.0625 48.390625 32.421875 48.390625 \r\nQ 24.90625 48.390625 20.390625 44.140625 \r\nQ 15.875 39.890625 15.1875 32.171875 \r\nz\r\n\" id=\"DejaVuSans-101\"/>\r\n      <path id=\"DejaVuSans-32\"/>\r\n      <path d=\"M 9.8125 72.90625 \r\nL 19.671875 72.90625 \r\nL 19.671875 8.296875 \r\nL 55.171875 8.296875 \r\nL 55.171875 0 \r\nL 9.8125 0 \r\nz\r\n\" id=\"DejaVuSans-76\"/>\r\n      <path d=\"M 53.515625 70.515625 \r\nL 53.515625 60.890625 \r\nQ 47.90625 63.578125 42.921875 64.890625 \r\nQ 37.9375 66.21875 33.296875 66.21875 \r\nQ 25.25 66.21875 20.875 63.09375 \r\nQ 16.5 59.96875 16.5 54.203125 \r\nQ 16.5 49.359375 19.40625 46.890625 \r\nQ 22.3125 44.4375 30.421875 42.921875 \r\nL 36.375 41.703125 \r\nQ 47.40625 39.59375 52.65625 34.296875 \r\nQ 57.90625 29 57.90625 20.125 \r\nQ 57.90625 9.515625 50.796875 4.046875 \r\nQ 43.703125 -1.421875 29.984375 -1.421875 \r\nQ 24.8125 -1.421875 18.96875 -0.25 \r\nQ 13.140625 0.921875 6.890625 3.21875 \r\nL 6.890625 13.375 \r\nQ 12.890625 10.015625 18.65625 8.296875 \r\nQ 24.421875 6.59375 29.984375 6.59375 \r\nQ 38.421875 6.59375 43.015625 9.90625 \r\nQ 47.609375 13.234375 47.609375 19.390625 \r\nQ 47.609375 24.75 44.3125 27.78125 \r\nQ 41.015625 30.8125 33.5 32.328125 \r\nL 27.484375 33.5 \r\nQ 16.453125 35.6875 11.515625 40.375 \r\nQ 6.59375 45.0625 6.59375 53.421875 \r\nQ 6.59375 63.09375 13.40625 68.65625 \r\nQ 20.21875 74.21875 32.171875 74.21875 \r\nQ 37.3125 74.21875 42.625 73.28125 \r\nQ 47.953125 72.359375 53.515625 70.515625 \r\nz\r\n\" id=\"DejaVuSans-83\"/>\r\n      <path d=\"M 19.671875 64.796875 \r\nL 19.671875 8.109375 \r\nL 31.59375 8.109375 \r\nQ 46.6875 8.109375 53.6875 14.9375 \r\nQ 60.6875 21.78125 60.6875 36.53125 \r\nQ 60.6875 51.171875 53.6875 57.984375 \r\nQ 46.6875 64.796875 31.59375 64.796875 \r\nz\r\nM 9.8125 72.90625 \r\nL 30.078125 72.90625 \r\nQ 51.265625 72.90625 61.171875 64.09375 \r\nQ 71.09375 55.28125 71.09375 36.53125 \r\nQ 71.09375 17.671875 61.125 8.828125 \r\nQ 51.171875 0 30.078125 0 \r\nL 9.8125 0 \r\nz\r\n\" id=\"DejaVuSans-68\"/>\r\n      <path d=\"M 18.109375 8.203125 \r\nL 18.109375 -20.796875 \r\nL 9.078125 -20.796875 \r\nL 9.078125 54.6875 \r\nL 18.109375 54.6875 \r\nL 18.109375 46.390625 \r\nQ 20.953125 51.265625 25.265625 53.625 \r\nQ 29.59375 56 35.59375 56 \r\nQ 45.5625 56 51.78125 48.09375 \r\nQ 58.015625 40.1875 58.015625 27.296875 \r\nQ 58.015625 14.40625 51.78125 6.484375 \r\nQ 45.5625 -1.421875 35.59375 -1.421875 \r\nQ 29.59375 -1.421875 25.265625 0.953125 \r\nQ 20.953125 3.328125 18.109375 8.203125 \r\nz\r\nM 48.6875 27.296875 \r\nQ 48.6875 37.203125 44.609375 42.84375 \r\nQ 40.53125 48.484375 33.40625 48.484375 \r\nQ 26.265625 48.484375 22.1875 42.84375 \r\nQ 18.109375 37.203125 18.109375 27.296875 \r\nQ 18.109375 17.390625 22.1875 11.75 \r\nQ 26.265625 6.109375 33.40625 6.109375 \r\nQ 40.53125 6.109375 44.609375 11.75 \r\nQ 48.6875 17.390625 48.6875 27.296875 \r\nz\r\n\" id=\"DejaVuSans-112\"/>\r\n      <path d=\"M 52 44.1875 \r\nQ 55.375 50.25 60.0625 53.125 \r\nQ 64.75 56 71.09375 56 \r\nQ 79.640625 56 84.28125 50.015625 \r\nQ 88.921875 44.046875 88.921875 33.015625 \r\nL 88.921875 0 \r\nL 79.890625 0 \r\nL 79.890625 32.71875 \r\nQ 79.890625 40.578125 77.09375 44.375 \r\nQ 74.3125 48.1875 68.609375 48.1875 \r\nQ 61.625 48.1875 57.5625 43.546875 \r\nQ 53.515625 38.921875 53.515625 30.90625 \r\nL 53.515625 0 \r\nL 44.484375 0 \r\nL 44.484375 32.71875 \r\nQ 44.484375 40.625 41.703125 44.40625 \r\nQ 38.921875 48.1875 33.109375 48.1875 \r\nQ 26.21875 48.1875 22.15625 43.53125 \r\nQ 18.109375 38.875 18.109375 30.90625 \r\nL 18.109375 0 \r\nL 9.078125 0 \r\nL 9.078125 54.6875 \r\nL 18.109375 54.6875 \r\nL 18.109375 46.1875 \r\nQ 21.1875 51.21875 25.484375 53.609375 \r\nQ 29.78125 56 35.6875 56 \r\nQ 41.65625 56 45.828125 52.96875 \r\nQ 50 49.953125 52 44.1875 \r\nz\r\n\" id=\"DejaVuSans-109\"/>\r\n     </defs>\r\n     <g transform=\"translate(242.196562 416.864531)scale(0.14 -0.14)\">\r\n      <use xlink:href=\"#DejaVuSans-84\"/>\r\n      <use x=\"57.958984\" xlink:href=\"#DejaVuSans-105\"/>\r\n      <use x=\"85.742188\" xlink:href=\"#DejaVuSans-115\"/>\r\n      <use x=\"137.841797\" xlink:href=\"#DejaVuSans-115\"/>\r\n      <use x=\"189.941406\" xlink:href=\"#DejaVuSans-117\"/>\r\n      <use x=\"253.320312\" xlink:href=\"#DejaVuSans-101\"/>\r\n      <use x=\"314.84375\" xlink:href=\"#DejaVuSans-32\"/>\r\n      <use x=\"346.630859\" xlink:href=\"#DejaVuSans-76\"/>\r\n      <use x=\"402.34375\" xlink:href=\"#DejaVuSans-83\"/>\r\n      <use x=\"465.820312\" xlink:href=\"#DejaVuSans-68\"/>\r\n      <use x=\"542.822266\" xlink:href=\"#DejaVuSans-32\"/>\r\n      <use x=\"574.609375\" xlink:href=\"#DejaVuSans-112\"/>\r\n      <use x=\"638.085938\" xlink:href=\"#DejaVuSans-112\"/>\r\n      <use x=\"701.5625\" xlink:href=\"#DejaVuSans-109\"/>\r\n     </g>\r\n    </g>\r\n   </g>\r\n   <g id=\"matplotlib.axis_2\">\r\n    <g id=\"ytick_1\">\r\n     <g id=\"line2d_19\">\r\n      <path clip-path=\"url(#p11a9eccb3b)\" d=\"M 47.564375 353.797344 \r\nL 548.684375 353.797344 \r\n\" style=\"fill:none;stroke:#cbcbcb;\"/>\r\n     </g>\r\n     <g id=\"line2d_20\"/>\r\n     <g id=\"line2d_21\"/>\r\n     <g id=\"text_8\">\r\n      <!-- 30 -->\r\n      <defs>\r\n       <path d=\"M 31.78125 66.40625 \r\nQ 24.171875 66.40625 20.328125 58.90625 \r\nQ 16.5 51.421875 16.5 36.375 \r\nQ 16.5 21.390625 20.328125 13.890625 \r\nQ 24.171875 6.390625 31.78125 6.390625 \r\nQ 39.453125 6.390625 43.28125 13.890625 \r\nQ 47.125 21.390625 47.125 36.375 \r\nQ 47.125 51.421875 43.28125 58.90625 \r\nQ 39.453125 66.40625 31.78125 66.40625 \r\nz\r\nM 31.78125 74.21875 \r\nQ 44.046875 74.21875 50.515625 64.515625 \r\nQ 56.984375 54.828125 56.984375 36.375 \r\nQ 56.984375 17.96875 50.515625 8.265625 \r\nQ 44.046875 -1.421875 31.78125 -1.421875 \r\nQ 19.53125 -1.421875 13.0625 8.265625 \r\nQ 6.59375 17.96875 6.59375 36.375 \r\nQ 6.59375 54.828125 13.0625 64.515625 \r\nQ 19.53125 74.21875 31.78125 74.21875 \r\nz\r\n\" id=\"DejaVuSans-48\"/>\r\n      </defs>\r\n      <g transform=\"translate(25.749375 357.660469)scale(0.14 -0.14)\">\r\n       <use xlink:href=\"#DejaVuSans-51\"/>\r\n       <use x=\"63.623047\" xlink:href=\"#DejaVuSans-48\"/>\r\n      </g>\r\n     </g>\r\n    </g>\r\n    <g id=\"ytick_2\">\r\n     <g id=\"line2d_22\">\r\n      <path clip-path=\"url(#p11a9eccb3b)\" d=\"M 47.564375 294.037344 \r\nL 548.684375 294.037344 \r\n\" style=\"fill:none;stroke:#cbcbcb;\"/>\r\n     </g>\r\n     <g id=\"line2d_23\"/>\r\n     <g id=\"line2d_24\"/>\r\n     <g id=\"text_9\">\r\n      <!-- 40 -->\r\n      <g transform=\"translate(25.749375 297.900469)scale(0.14 -0.14)\">\r\n       <use xlink:href=\"#DejaVuSans-52\"/>\r\n       <use x=\"63.623047\" xlink:href=\"#DejaVuSans-48\"/>\r\n      </g>\r\n     </g>\r\n    </g>\r\n    <g id=\"ytick_3\">\r\n     <g id=\"line2d_25\">\r\n      <path clip-path=\"url(#p11a9eccb3b)\" d=\"M 47.564375 234.277344 \r\nL 548.684375 234.277344 \r\n\" style=\"fill:none;stroke:#cbcbcb;\"/>\r\n     </g>\r\n     <g id=\"line2d_26\"/>\r\n     <g id=\"line2d_27\"/>\r\n     <g id=\"text_10\">\r\n      <!-- 50 -->\r\n      <g transform=\"translate(25.749375 238.140469)scale(0.14 -0.14)\">\r\n       <use xlink:href=\"#DejaVuSans-53\"/>\r\n       <use x=\"63.623047\" xlink:href=\"#DejaVuSans-48\"/>\r\n      </g>\r\n     </g>\r\n    </g>\r\n    <g id=\"ytick_4\">\r\n     <g id=\"line2d_28\">\r\n      <path clip-path=\"url(#p11a9eccb3b)\" d=\"M 47.564375 174.517344 \r\nL 548.684375 174.517344 \r\n\" style=\"fill:none;stroke:#cbcbcb;\"/>\r\n     </g>\r\n     <g id=\"line2d_29\"/>\r\n     <g id=\"line2d_30\"/>\r\n     <g id=\"text_11\">\r\n      <!-- 60 -->\r\n      <g transform=\"translate(25.749375 178.380469)scale(0.14 -0.14)\">\r\n       <use xlink:href=\"#DejaVuSans-54\"/>\r\n       <use x=\"63.623047\" xlink:href=\"#DejaVuSans-48\"/>\r\n      </g>\r\n     </g>\r\n    </g>\r\n    <g id=\"ytick_5\">\r\n     <g id=\"line2d_31\">\r\n      <path clip-path=\"url(#p11a9eccb3b)\" d=\"M 47.564375 114.757344 \r\nL 548.684375 114.757344 \r\n\" style=\"fill:none;stroke:#cbcbcb;\"/>\r\n     </g>\r\n     <g id=\"line2d_32\"/>\r\n     <g id=\"line2d_33\"/>\r\n     <g id=\"text_12\">\r\n      <!-- 70 -->\r\n      <defs>\r\n       <path d=\"M 8.203125 72.90625 \r\nL 55.078125 72.90625 \r\nL 55.078125 68.703125 \r\nL 28.609375 0 \r\nL 18.3125 0 \r\nL 43.21875 64.59375 \r\nL 8.203125 64.59375 \r\nz\r\n\" id=\"DejaVuSans-55\"/>\r\n      </defs>\r\n      <g transform=\"translate(25.749375 118.620469)scale(0.14 -0.14)\">\r\n       <use xlink:href=\"#DejaVuSans-55\"/>\r\n       <use x=\"63.623047\" xlink:href=\"#DejaVuSans-48\"/>\r\n      </g>\r\n     </g>\r\n    </g>\r\n    <g id=\"ytick_6\">\r\n     <g id=\"line2d_34\">\r\n      <path clip-path=\"url(#p11a9eccb3b)\" d=\"M 47.564375 54.997344 \r\nL 548.684375 54.997344 \r\n\" style=\"fill:none;stroke:#cbcbcb;\"/>\r\n     </g>\r\n     <g id=\"line2d_35\"/>\r\n     <g id=\"line2d_36\"/>\r\n     <g id=\"text_13\">\r\n      <!-- 80 -->\r\n      <defs>\r\n       <path d=\"M 31.78125 34.625 \r\nQ 24.75 34.625 20.71875 30.859375 \r\nQ 16.703125 27.09375 16.703125 20.515625 \r\nQ 16.703125 13.921875 20.71875 10.15625 \r\nQ 24.75 6.390625 31.78125 6.390625 \r\nQ 38.8125 6.390625 42.859375 10.171875 \r\nQ 46.921875 13.96875 46.921875 20.515625 \r\nQ 46.921875 27.09375 42.890625 30.859375 \r\nQ 38.875 34.625 31.78125 34.625 \r\nz\r\nM 21.921875 38.8125 \r\nQ 15.578125 40.375 12.03125 44.71875 \r\nQ 8.5 49.078125 8.5 55.328125 \r\nQ 8.5 64.0625 14.71875 69.140625 \r\nQ 20.953125 74.21875 31.78125 74.21875 \r\nQ 42.671875 74.21875 48.875 69.140625 \r\nQ 55.078125 64.0625 55.078125 55.328125 \r\nQ 55.078125 49.078125 51.53125 44.71875 \r\nQ 48 40.375 41.703125 38.8125 \r\nQ 48.828125 37.15625 52.796875 32.3125 \r\nQ 56.78125 27.484375 56.78125 20.515625 \r\nQ 56.78125 9.90625 50.3125 4.234375 \r\nQ 43.84375 -1.421875 31.78125 -1.421875 \r\nQ 19.734375 -1.421875 13.25 4.234375 \r\nQ 6.78125 9.90625 6.78125 20.515625 \r\nQ 6.78125 27.484375 10.78125 32.3125 \r\nQ 14.796875 37.15625 21.921875 38.8125 \r\nz\r\nM 18.3125 54.390625 \r\nQ 18.3125 48.734375 21.84375 45.5625 \r\nQ 25.390625 42.390625 31.78125 42.390625 \r\nQ 38.140625 42.390625 41.71875 45.5625 \r\nQ 45.3125 48.734375 45.3125 54.390625 \r\nQ 45.3125 60.0625 41.71875 63.234375 \r\nQ 38.140625 66.40625 31.78125 66.40625 \r\nQ 25.390625 66.40625 21.84375 63.234375 \r\nQ 18.3125 60.0625 18.3125 54.390625 \r\nz\r\n\" id=\"DejaVuSans-56\"/>\r\n      </defs>\r\n      <g transform=\"translate(25.749375 58.860469)scale(0.14 -0.14)\">\r\n       <use xlink:href=\"#DejaVuSans-56\"/>\r\n       <use x=\"63.623047\" xlink:href=\"#DejaVuSans-48\"/>\r\n      </g>\r\n     </g>\r\n    </g>\r\n    <g id=\"text_14\">\r\n     <!-- Performance Score -->\r\n     <defs>\r\n      <path d=\"M 19.671875 64.796875 \r\nL 19.671875 37.40625 \r\nL 32.078125 37.40625 \r\nQ 38.96875 37.40625 42.71875 40.96875 \r\nQ 46.484375 44.53125 46.484375 51.125 \r\nQ 46.484375 57.671875 42.71875 61.234375 \r\nQ 38.96875 64.796875 32.078125 64.796875 \r\nz\r\nM 9.8125 72.90625 \r\nL 32.078125 72.90625 \r\nQ 44.34375 72.90625 50.609375 67.359375 \r\nQ 56.890625 61.8125 56.890625 51.125 \r\nQ 56.890625 40.328125 50.609375 34.8125 \r\nQ 44.34375 29.296875 32.078125 29.296875 \r\nL 19.671875 29.296875 \r\nL 19.671875 0 \r\nL 9.8125 0 \r\nz\r\n\" id=\"DejaVuSans-80\"/>\r\n      <path d=\"M 41.109375 46.296875 \r\nQ 39.59375 47.171875 37.8125 47.578125 \r\nQ 36.03125 48 33.890625 48 \r\nQ 26.265625 48 22.1875 43.046875 \r\nQ 18.109375 38.09375 18.109375 28.8125 \r\nL 18.109375 0 \r\nL 9.078125 0 \r\nL 9.078125 54.6875 \r\nL 18.109375 54.6875 \r\nL 18.109375 46.1875 \r\nQ 20.953125 51.171875 25.484375 53.578125 \r\nQ 30.03125 56 36.53125 56 \r\nQ 37.453125 56 38.578125 55.875 \r\nQ 39.703125 55.765625 41.0625 55.515625 \r\nz\r\n\" id=\"DejaVuSans-114\"/>\r\n      <path d=\"M 37.109375 75.984375 \r\nL 37.109375 68.5 \r\nL 28.515625 68.5 \r\nQ 23.6875 68.5 21.796875 66.546875 \r\nQ 19.921875 64.59375 19.921875 59.515625 \r\nL 19.921875 54.6875 \r\nL 34.71875 54.6875 \r\nL 34.71875 47.703125 \r\nL 19.921875 47.703125 \r\nL 19.921875 0 \r\nL 10.890625 0 \r\nL 10.890625 47.703125 \r\nL 2.296875 47.703125 \r\nL 2.296875 54.6875 \r\nL 10.890625 54.6875 \r\nL 10.890625 58.5 \r\nQ 10.890625 67.625 15.140625 71.796875 \r\nQ 19.390625 75.984375 28.609375 75.984375 \r\nz\r\n\" id=\"DejaVuSans-102\"/>\r\n      <path d=\"M 30.609375 48.390625 \r\nQ 23.390625 48.390625 19.1875 42.75 \r\nQ 14.984375 37.109375 14.984375 27.296875 \r\nQ 14.984375 17.484375 19.15625 11.84375 \r\nQ 23.34375 6.203125 30.609375 6.203125 \r\nQ 37.796875 6.203125 41.984375 11.859375 \r\nQ 46.1875 17.53125 46.1875 27.296875 \r\nQ 46.1875 37.015625 41.984375 42.703125 \r\nQ 37.796875 48.390625 30.609375 48.390625 \r\nz\r\nM 30.609375 56 \r\nQ 42.328125 56 49.015625 48.375 \r\nQ 55.71875 40.765625 55.71875 27.296875 \r\nQ 55.71875 13.875 49.015625 6.21875 \r\nQ 42.328125 -1.421875 30.609375 -1.421875 \r\nQ 18.84375 -1.421875 12.171875 6.21875 \r\nQ 5.515625 13.875 5.515625 27.296875 \r\nQ 5.515625 40.765625 12.171875 48.375 \r\nQ 18.84375 56 30.609375 56 \r\nz\r\n\" id=\"DejaVuSans-111\"/>\r\n      <path d=\"M 34.28125 27.484375 \r\nQ 23.390625 27.484375 19.1875 25 \r\nQ 14.984375 22.515625 14.984375 16.5 \r\nQ 14.984375 11.71875 18.140625 8.90625 \r\nQ 21.296875 6.109375 26.703125 6.109375 \r\nQ 34.1875 6.109375 38.703125 11.40625 \r\nQ 43.21875 16.703125 43.21875 25.484375 \r\nL 43.21875 27.484375 \r\nz\r\nM 52.203125 31.203125 \r\nL 52.203125 0 \r\nL 43.21875 0 \r\nL 43.21875 8.296875 \r\nQ 40.140625 3.328125 35.546875 0.953125 \r\nQ 30.953125 -1.421875 24.3125 -1.421875 \r\nQ 15.921875 -1.421875 10.953125 3.296875 \r\nQ 6 8.015625 6 15.921875 \r\nQ 6 25.140625 12.171875 29.828125 \r\nQ 18.359375 34.515625 30.609375 34.515625 \r\nL 43.21875 34.515625 \r\nL 43.21875 35.40625 \r\nQ 43.21875 41.609375 39.140625 45 \r\nQ 35.0625 48.390625 27.6875 48.390625 \r\nQ 23 48.390625 18.546875 47.265625 \r\nQ 14.109375 46.140625 10.015625 43.890625 \r\nL 10.015625 52.203125 \r\nQ 14.9375 54.109375 19.578125 55.046875 \r\nQ 24.21875 56 28.609375 56 \r\nQ 40.484375 56 46.34375 49.84375 \r\nQ 52.203125 43.703125 52.203125 31.203125 \r\nz\r\n\" id=\"DejaVuSans-97\"/>\r\n      <path d=\"M 54.890625 33.015625 \r\nL 54.890625 0 \r\nL 45.90625 0 \r\nL 45.90625 32.71875 \r\nQ 45.90625 40.484375 42.875 44.328125 \r\nQ 39.84375 48.1875 33.796875 48.1875 \r\nQ 26.515625 48.1875 22.3125 43.546875 \r\nQ 18.109375 38.921875 18.109375 30.90625 \r\nL 18.109375 0 \r\nL 9.078125 0 \r\nL 9.078125 54.6875 \r\nL 18.109375 54.6875 \r\nL 18.109375 46.1875 \r\nQ 21.34375 51.125 25.703125 53.5625 \r\nQ 30.078125 56 35.796875 56 \r\nQ 45.21875 56 50.046875 50.171875 \r\nQ 54.890625 44.34375 54.890625 33.015625 \r\nz\r\n\" id=\"DejaVuSans-110\"/>\r\n      <path d=\"M 48.78125 52.59375 \r\nL 48.78125 44.1875 \r\nQ 44.96875 46.296875 41.140625 47.34375 \r\nQ 37.3125 48.390625 33.40625 48.390625 \r\nQ 24.65625 48.390625 19.8125 42.84375 \r\nQ 14.984375 37.3125 14.984375 27.296875 \r\nQ 14.984375 17.28125 19.8125 11.734375 \r\nQ 24.65625 6.203125 33.40625 6.203125 \r\nQ 37.3125 6.203125 41.140625 7.25 \r\nQ 44.96875 8.296875 48.78125 10.40625 \r\nL 48.78125 2.09375 \r\nQ 45.015625 0.34375 40.984375 -0.53125 \r\nQ 36.96875 -1.421875 32.421875 -1.421875 \r\nQ 20.0625 -1.421875 12.78125 6.34375 \r\nQ 5.515625 14.109375 5.515625 27.296875 \r\nQ 5.515625 40.671875 12.859375 48.328125 \r\nQ 20.21875 56 33.015625 56 \r\nQ 37.15625 56 41.109375 55.140625 \r\nQ 45.0625 54.296875 48.78125 52.59375 \r\nz\r\n\" id=\"DejaVuSans-99\"/>\r\n     </defs>\r\n     <g transform=\"translate(17.837812 270.580156)rotate(-90)scale(0.14 -0.14)\">\r\n      <use xlink:href=\"#DejaVuSans-80\"/>\r\n      <use x=\"56.677734\" xlink:href=\"#DejaVuSans-101\"/>\r\n      <use x=\"118.201172\" xlink:href=\"#DejaVuSans-114\"/>\r\n      <use x=\"159.314453\" xlink:href=\"#DejaVuSans-102\"/>\r\n      <use x=\"194.519531\" xlink:href=\"#DejaVuSans-111\"/>\r\n      <use x=\"255.701172\" xlink:href=\"#DejaVuSans-114\"/>\r\n      <use x=\"295.064453\" xlink:href=\"#DejaVuSans-109\"/>\r\n      <use x=\"392.476562\" xlink:href=\"#DejaVuSans-97\"/>\r\n      <use x=\"453.755859\" xlink:href=\"#DejaVuSans-110\"/>\r\n      <use x=\"517.134766\" xlink:href=\"#DejaVuSans-99\"/>\r\n      <use x=\"572.115234\" xlink:href=\"#DejaVuSans-101\"/>\r\n      <use x=\"633.638672\" xlink:href=\"#DejaVuSans-32\"/>\r\n      <use x=\"665.425781\" xlink:href=\"#DejaVuSans-83\"/>\r\n      <use x=\"728.902344\" xlink:href=\"#DejaVuSans-99\"/>\r\n      <use x=\"783.882812\" xlink:href=\"#DejaVuSans-111\"/>\r\n      <use x=\"845.064453\" xlink:href=\"#DejaVuSans-114\"/>\r\n      <use x=\"883.927734\" xlink:href=\"#DejaVuSans-101\"/>\r\n     </g>\r\n    </g>\r\n   </g>\r\n   <g id=\"PathCollection_1\">\r\n    <defs>\r\n     <path d=\"M 0 5 \r\nC 1.326016 5 2.597899 4.473168 3.535534 3.535534 \r\nC 4.473168 2.597899 5 1.326016 5 0 \r\nC 5 -1.326016 4.473168 -2.597899 3.535534 -3.535534 \r\nC 2.597899 -4.473168 1.326016 -5 0 -5 \r\nC -1.326016 -5 -2.597899 -4.473168 -3.535534 -3.535534 \r\nC -4.473168 -2.597899 -5 -1.326016 -5 0 \r\nC -5 1.326016 -4.473168 2.597899 -3.535534 3.535534 \r\nC -2.597899 4.473168 -1.326016 5 0 5 \r\nz\r\n\" id=\"m1783a90ca5\" style=\"stroke:#0000ff;stroke-opacity:0.7;stroke-width:0.5;\"/>\r\n    </defs>\r\n    <g clip-path=\"url(#p11a9eccb3b)\">\r\n     <use style=\"fill:#0000ff;fill-opacity:0.7;stroke:#0000ff;stroke-opacity:0.7;stroke-width:0.5;\" x=\"63.053539\" xlink:href=\"#m1783a90ca5\" y=\"61.391664\"/>\r\n     <use style=\"fill:#0000ff;fill-opacity:0.7;stroke:#0000ff;stroke-opacity:0.7;stroke-width:0.5;\" x=\"227.056448\" xlink:href=\"#m1783a90ca5\" y=\"185.274144\"/>\r\n     <use style=\"fill:#0000ff;fill-opacity:0.7;stroke:#0000ff;stroke-opacity:0.7;stroke-width:0.5;\" x=\"253.479139\" xlink:href=\"#m1783a90ca5\" y=\"129.876624\"/>\r\n     <use style=\"fill:#0000ff;fill-opacity:0.7;stroke:#0000ff;stroke-opacity:0.7;stroke-width:0.5;\" x=\"383.770339\" xlink:href=\"#m1783a90ca5\" y=\"309.156624\"/>\r\n     <use style=\"fill:#0000ff;fill-opacity:0.7;stroke:#0000ff;stroke-opacity:0.7;stroke-width:0.5;\" x=\"487.638848\" xlink:href=\"#m1783a90ca5\" y=\"260.272944\"/>\r\n     <use style=\"fill:#0000ff;fill-opacity:0.7;stroke:#0000ff;stroke-opacity:0.7;stroke-width:0.5;\" x=\"503.128011\" xlink:href=\"#m1783a90ca5\" y=\"336.347424\"/>\r\n     <use style=\"fill:#0000ff;fill-opacity:0.7;stroke:#0000ff;stroke-opacity:0.7;stroke-width:0.5;\" x=\"540.48423\" xlink:href=\"#m1783a90ca5\" y=\"353.976624\"/>\r\n    </g>\r\n   </g>\r\n   <g id=\"patch_3\">\r\n    <path d=\"M 47.564375 383.677344 \r\nL 47.564375 25.117344 \r\n\" style=\"fill:none;stroke:#f0f0f0;stroke-linecap:square;stroke-linejoin:miter;stroke-width:3;\"/>\r\n   </g>\r\n   <g id=\"patch_4\">\r\n    <path d=\"M 548.684375 383.677344 \r\nL 548.684375 25.117344 \r\n\" style=\"fill:none;stroke:#f0f0f0;stroke-linecap:square;stroke-linejoin:miter;stroke-width:3;\"/>\r\n   </g>\r\n   <g id=\"patch_5\">\r\n    <path d=\"M 47.564375 383.677344 \r\nL 548.684375 383.677344 \r\n\" style=\"fill:none;stroke:#f0f0f0;stroke-linecap:square;stroke-linejoin:miter;stroke-width:3;\"/>\r\n   </g>\r\n   <g id=\"patch_6\">\r\n    <path d=\"M 47.564375 25.117344 \r\nL 548.684375 25.117344 \r\n\" style=\"fill:none;stroke:#f0f0f0;stroke-linecap:square;stroke-linejoin:miter;stroke-width:3;\"/>\r\n   </g>\r\n   <g id=\"text_15\">\r\n    <!-- Arithmetic vs LSD-25 -->\r\n    <defs>\r\n     <path d=\"M 34.1875 63.1875 \r\nL 20.796875 26.90625 \r\nL 47.609375 26.90625 \r\nz\r\nM 28.609375 72.90625 \r\nL 39.796875 72.90625 \r\nL 67.578125 0 \r\nL 57.328125 0 \r\nL 50.6875 18.703125 \r\nL 17.828125 18.703125 \r\nL 11.1875 0 \r\nL 0.78125 0 \r\nz\r\n\" id=\"DejaVuSans-65\"/>\r\n     <path d=\"M 18.3125 70.21875 \r\nL 18.3125 54.6875 \r\nL 36.8125 54.6875 \r\nL 36.8125 47.703125 \r\nL 18.3125 47.703125 \r\nL 18.3125 18.015625 \r\nQ 18.3125 11.328125 20.140625 9.421875 \r\nQ 21.96875 7.515625 27.59375 7.515625 \r\nL 36.8125 7.515625 \r\nL 36.8125 0 \r\nL 27.59375 0 \r\nQ 17.1875 0 13.234375 3.875 \r\nQ 9.28125 7.765625 9.28125 18.015625 \r\nL 9.28125 47.703125 \r\nL 2.6875 47.703125 \r\nL 2.6875 54.6875 \r\nL 9.28125 54.6875 \r\nL 9.28125 70.21875 \r\nz\r\n\" id=\"DejaVuSans-116\"/>\r\n     <path d=\"M 54.890625 33.015625 \r\nL 54.890625 0 \r\nL 45.90625 0 \r\nL 45.90625 32.71875 \r\nQ 45.90625 40.484375 42.875 44.328125 \r\nQ 39.84375 48.1875 33.796875 48.1875 \r\nQ 26.515625 48.1875 22.3125 43.546875 \r\nQ 18.109375 38.921875 18.109375 30.90625 \r\nL 18.109375 0 \r\nL 9.078125 0 \r\nL 9.078125 75.984375 \r\nL 18.109375 75.984375 \r\nL 18.109375 46.1875 \r\nQ 21.34375 51.125 25.703125 53.5625 \r\nQ 30.078125 56 35.796875 56 \r\nQ 45.21875 56 50.046875 50.171875 \r\nQ 54.890625 44.34375 54.890625 33.015625 \r\nz\r\n\" id=\"DejaVuSans-104\"/>\r\n     <path d=\"M 2.984375 54.6875 \r\nL 12.5 54.6875 \r\nL 29.59375 8.796875 \r\nL 46.6875 54.6875 \r\nL 56.203125 54.6875 \r\nL 35.6875 0 \r\nL 23.484375 0 \r\nz\r\n\" id=\"DejaVuSans-118\"/>\r\n     <path d=\"M 4.890625 31.390625 \r\nL 31.203125 31.390625 \r\nL 31.203125 23.390625 \r\nL 4.890625 23.390625 \r\nz\r\n\" id=\"DejaVuSans-45\"/>\r\n    </defs>\r\n    <g transform=\"translate(208.436094 20.117344)scale(0.17 -0.17)\">\r\n     <use xlink:href=\"#DejaVuSans-65\"/>\r\n     <use x=\"68.408203\" xlink:href=\"#DejaVuSans-114\"/>\r\n     <use x=\"109.521484\" xlink:href=\"#DejaVuSans-105\"/>\r\n     <use x=\"137.304688\" xlink:href=\"#DejaVuSans-116\"/>\r\n     <use x=\"176.513672\" xlink:href=\"#DejaVuSans-104\"/>\r\n     <use x=\"239.892578\" xlink:href=\"#DejaVuSans-109\"/>\r\n     <use x=\"337.304688\" xlink:href=\"#DejaVuSans-101\"/>\r\n     <use x=\"398.828125\" xlink:href=\"#DejaVuSans-116\"/>\r\n     <use x=\"438.037109\" xlink:href=\"#DejaVuSans-105\"/>\r\n     <use x=\"465.820312\" xlink:href=\"#DejaVuSans-99\"/>\r\n     <use x=\"520.800781\" xlink:href=\"#DejaVuSans-32\"/>\r\n     <use x=\"552.587891\" xlink:href=\"#DejaVuSans-118\"/>\r\n     <use x=\"611.767578\" xlink:href=\"#DejaVuSans-115\"/>\r\n     <use x=\"663.867188\" xlink:href=\"#DejaVuSans-32\"/>\r\n     <use x=\"695.654297\" xlink:href=\"#DejaVuSans-76\"/>\r\n     <use x=\"751.367188\" xlink:href=\"#DejaVuSans-83\"/>\r\n     <use x=\"814.84375\" xlink:href=\"#DejaVuSans-68\"/>\r\n     <use x=\"891.845703\" xlink:href=\"#DejaVuSans-45\"/>\r\n     <use x=\"927.929688\" xlink:href=\"#DejaVuSans-50\"/>\r\n     <use x=\"991.552734\" xlink:href=\"#DejaVuSans-53\"/>\r\n    </g>\r\n   </g>\r\n  </g>\r\n </g>\r\n <defs>\r\n  <clipPath id=\"p11a9eccb3b\">\r\n   <rect height=\"358.56\" width=\"501.12\" x=\"47.564375\" y=\"25.117344\"/>\r\n  </clipPath>\r\n </defs>\r\n</svg>\r\n",
      "image/png": "[encoded data removed]"
     },
     "metadata": {}
    }
   ],
   "source": [
    "plt.scatter(LSD, score, color='blue', s=100, alpha=0.7)\n",
    "plt.title('Arithmetic vs LSD-25', fontsize = 17)\n",
    "plt.xlabel('Tissue LSD ppm', fontsize = 14)\n",
    "plt.ylabel('Performance Score', fontsize= 14)\n",
    "plt.ylim(25,85)\n",
    "plt.xlim(1, 6.5)\n",
    "plt.style.use('fivethirtyeight')\n",
    "\n",
    "\n",
    "plt.show()"
   ]
  },
  {
   "cell_type": "code",
   "execution_count": null,
   "metadata": {},
   "outputs": [],
   "source": []
  },
  {
   "cell_type": "code",
   "execution_count": null,
   "metadata": {},
   "outputs": [],
   "source": []
  }
 ]
}